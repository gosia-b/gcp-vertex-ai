{
 "cells": [
  {
   "cell_type": "code",
   "execution_count": 1,
   "id": "1625af71-0bdd-4aef-b33b-f6ee431dab3d",
   "metadata": {},
   "outputs": [],
   "source": [
    "from datetime import datetime\n",
    "from typing import NamedTuple\n",
    "\n",
    "from kfp.v2 import dsl, compiler\n",
    "from kfp.v2.dsl import component, Input, Output, Dataset, Model, Metrics, ClassificationMetrics, Artifact\n",
    "from google.cloud.aiplatform import pipeline_jobs"
   ]
  },
  {
   "cell_type": "markdown",
   "id": "eb7fa2d3-4ed0-4027-be0d-66f28a10c710",
   "metadata": {},
   "source": [
    "# Set up global variables"
   ]
  },
  {
   "cell_type": "code",
   "execution_count": 2,
   "id": "8dc45a49-3372-4df2-815d-a92860fc6279",
   "metadata": {},
   "outputs": [],
   "source": [
    "# Get project name\n",
    "shell_output = !gcloud config get-value project\n",
    "PROJECT_ID = shell_output[0]\n",
    "\n",
    "REGION = \"europe-west1\"\n",
    "BUCKET_NAME = f\"gs://{PROJECT_ID}-bucket-wine-quality\"\n",
    "PIPELINE_ROOT = f\"{BUCKET_NAME}/pipeline_root_wine/\""
   ]
  },
  {
   "cell_type": "markdown",
   "id": "2d0af19d-cc91-40c1-bc9e-7f56f4c96bea",
   "metadata": {},
   "source": [
    "# 1️⃣ Load data"
   ]
  },
  {
   "cell_type": "code",
   "execution_count": 4,
   "id": "7e484b58-08bb-4f61-8b88-fd3c8ac9a167",
   "metadata": {},
   "outputs": [],
   "source": [
    "@component(\n",
    "    packages_to_install=[\"pandas\", \"pyarrow\", \"scikit-learn==1.0.0\"],\n",
    "    base_image=\"python:3.9\",\n",
    "    output_component_file=\"get_wine_data.yaml\"\n",
    ")\n",
    "\n",
    "def get_wine_data(url: str, train_dataset: Output[Dataset], test_dataset: Output[Dataset]):\n",
    "    import pandas as pd\n",
    "    import numpy as np\n",
    "    from sklearn.model_selection import train_test_split\n",
    "    \n",
    "    df_wine = pd.read_csv(url, delimiter=\";\")\n",
    "    df_wine[\"best_quality\"] = [1 if x>=7 else 0 for x in df_wine.quality]\n",
    "    df_wine[\"target\"] = df_wine.best_quality\n",
    "    df_wine = df_wine.drop([\"quality\", \"total sulfur dioxide\", \"best_quality\"], axis=1)\n",
    "    \n",
    "    train, test = train_test_split(df_wine, test_size=0.3)\n",
    "    train.to_csv(train_dataset.path + \".csv\", index=False, encoding=\"utf-8-sig\")\n",
    "    test.to_csv(test_dataset.path + \".csv\", index=False, encoding=\"utf-8-sig\")"
   ]
  },
  {
   "cell_type": "markdown",
   "id": "a849d402-1068-423e-bbd0-e743970bc895",
   "metadata": {},
   "source": [
    "# 2️⃣ Train model"
   ]
  },
  {
   "cell_type": "code",
   "execution_count": 5,
   "id": "77b006ed-12ef-4834-a5d7-2f4df99e106e",
   "metadata": {},
   "outputs": [],
   "source": [
    "@component(\n",
    "    packages_to_install=[\"pandas\", \"scikit-learn==1.0.0\"],\n",
    "    base_image=\"python:3.9\"\n",
    ")\n",
    "\n",
    "def train_winequality(dataset: Input[Dataset], model: Output[Model]):\n",
    "    import pickle\n",
    "    \n",
    "    from sklearn.ensemble import RandomForestClassifier\n",
    "    import pandas as pd\n",
    "    \n",
    "    data = pd.read_csv(dataset.path + \".csv\")\n",
    "    model_rf = RandomForestClassifier(n_estimators=10)\n",
    "    model_rf.fit(data.drop(columns=[\"target\"]), data.target)\n",
    "    \n",
    "    model.metadata[\"framework\"] = \"RF\"\n",
    "    file_name = model.path + \".pkl\"\n",
    "    \n",
    "    with open(file_name, \"wb\") as file:\n",
    "        pickle.dump(model_rf, file)"
   ]
  },
  {
   "cell_type": "markdown",
   "id": "ea5c785d-51af-4f44-b6df-401921a82078",
   "metadata": {},
   "source": [
    "# 3️⃣ Evaluate model"
   ]
  },
  {
   "cell_type": "code",
   "execution_count": 6,
   "id": "5e64e945-eea8-4b6c-8a7a-e80356770dc1",
   "metadata": {},
   "outputs": [],
   "source": [
    "@component(\n",
    "    packages_to_install=[\"pandas\", \"sklearn\"],\n",
    "    base_image=\"python:3.9\"\n",
    ")\n",
    "\n",
    "def winequality_evaluation(test_dataset: Input[Dataset], model_rf: Input[Model], thresholds: str,\n",
    "                            metrics: Output[ClassificationMetrics], kpi: Output[Metrics]) -> NamedTuple(\"output\", [(\"deploy\", str)]):\n",
    "    \n",
    "    from sklearn.ensemble import RandomForestClassifier\n",
    "    from sklearn.metrics import roc_curve, confusion_matrix, accuracy_score\n",
    "    import pandas as pd\n",
    "    \n",
    "    \n",
    "    data = pd.read_csv(test_dataset.path + \".csv\")\n",
    "    model = RandomForestClassifier()\n",
    "    file_name = model_rf.path + \".pkl\"\n",
    "    \n",
    "    with open(file_name, \"rb\") as file:\n",
    "        model = pickle.load(file)\n",
    "    \n",
    "    y_test = data.drop(columns=[\"target\"])\n",
    "    y_target = data.target\n",
    "    y_pred = model.predict(y_test)\n",
    "    \n",
    "    y_scores = model.predict_proba(data.drop(columns=[\"target\"]))[:, 1]\n",
    "    fpr, tpr, thresholds = roc_curve(y_true=data.target.to_numpy(), y_score=y_scores, pos_label=True)\n",
    "    metrics.log_roc_curve(fpr.tolist(), tpr.tolist(), thresholds.tolist())\n",
    "    \n",
    "    metrics.log_confusion_matrix([\"False\", \"True\"], confusion_matrix(data.target, y_pred).tolist())\n",
    "    \n",
    "    accuracy = accuracy_score(data.target, y_pred.round())\n",
    "    thresholds_dict = json.loads(thresholds)\n",
    "    \n",
    "    model_rf.metadata[\"accuracy\"] = float(accuracy)\n",
    "    \n",
    "    kpi.log_metric(\"accuracy\", float(accuracy))\n",
    "    \n",
    "    deploy = threshold_check(float(accuracy), int(thresholds_dict[\"roc\"]))\n",
    "    \n",
    "    return (deploy,)"
   ]
  },
  {
   "cell_type": "markdown",
   "id": "d2574dff-5dba-4cf2-9d72-40d9a723dad3",
   "metadata": {},
   "source": [
    "# 4️⃣ Deploy model"
   ]
  },
  {
   "cell_type": "code",
   "execution_count": 7,
   "id": "9109a015-3fa4-4325-8058-c3ddc4f3af7a",
   "metadata": {},
   "outputs": [],
   "source": [
    "@component(\n",
    "    packages_to_install=[\"google-cloud-aiplatform\", \"sklearn\", \"kfp\"],\n",
    "    base_image=\"python:3.9\",\n",
    "    output_component_file=\"model_winequality_component.yaml\"\n",
    ")\n",
    "\n",
    "def deploy_winequality(model: Input[Model], project: str, region: str, serving_container_image_uri: str, vertex_endpoint: Output[Artifact], vertex_model: Output[Model]):\n",
    "    \n",
    "    from google.cloud import aiplatform\n",
    "    \n",
    "    DISPLAY_NAME = \"winequality\"\n",
    "    MODEL_NAME = \"winequality-rf\"\n",
    "    ENDPOINT_NAME = \"winequality_endpoint\"\n",
    "    \n",
    "    \n",
    "    def create_endpoint():\n",
    "        endpoints = aiplatform.Endpoint.list(filter=f'display_name=\"{EDNPOINT_NAME}\"', order_by=\"create_time desc\", project=project, location=region)\n",
    "        if len(endpoints) > 0:\n",
    "            endpoint = endpoints[0]  # most recently created\n",
    "        else:\n",
    "            endpoint = aiplatform.Endpoint.create(display_name=ENDPOINT_NAME, project=project, location=region)\n",
    "    \n",
    "    \n",
    "    endpoint = create_endpoint()\n",
    "    \n",
    "    # Import model\n",
    "    model_upload = aiplatform.Model.upload(\n",
    "        display_name=DISPLAY_NAME,\n",
    "        artifact_uri=model.uri.replace(\"model\", \"\"),\n",
    "        serving_container_image_uri=serving_container_image_uri,\n",
    "        serving_container_health_route=f\"/v1/models/{MODEL_NAME}\",\n",
    "        serving_container_predict_route=f\"/v1/models/{MODEL_NAME}:predict\",\n",
    "        serving_container_environment_variables={\"MODEL_NAME\": MODEL_NAME}\n",
    "    )\n",
    "    \n",
    "    model_deploy = model_upload.deploy(\n",
    "        machine_type=\"n1-standard-4\",\n",
    "        endpoint=endpoint,\n",
    "        traffic_split={\"0\": 100},\n",
    "        deployed_model_display_name=DISPLAY_NAME\n",
    "    )\n",
    "    \n",
    "    # Save data to the ouput params\n",
    "    vertex_model.uri = model_deploy.resource_name"
   ]
  },
  {
   "cell_type": "markdown",
   "id": "486cb441-9075-43e1-9cea-45e0ae003dab",
   "metadata": {},
   "source": [
    "# Create the pipeline"
   ]
  },
  {
   "cell_type": "code",
   "execution_count": 8,
   "id": "206219da-6f4c-497e-b647-21a72e570fa7",
   "metadata": {},
   "outputs": [],
   "source": [
    "# To define unique pipeline job names you can use a timestamp\n",
    "TIMESTAMP = datetime.now().strftime(\"%Y%m%d%H%M%S\")\n",
    "DISPLAY_NAME = \"pipeline-winequality-job-{}\".format(TIMESTAMP)"
   ]
  },
  {
   "cell_type": "code",
   "execution_count": 9,
   "id": "8fe229ad-97da-409a-b83d-fc21d3906051",
   "metadata": {},
   "outputs": [],
   "source": [
    "# Define the pipeline and then compile it into a .json file\n",
    "\n",
    "@dsl.pipeline(\n",
    "    pipeline_root=PIPELINE_ROOT,  # default pipeline root. you can override it when submitting the pipeline\n",
    "    name=\"pipeline-winequality\"  # a name for the pipeline. use to determine the pipeline Context\n",
    ")\n",
    "\n",
    "def pipeline(\n",
    "    url: str = \"http://archive.ics.uci.edu/ml/machine-learning-databases/wine-quality/winequality-white.csv\",\n",
    "    project: str = PROJECT_ID,\n",
    "    region: str = REGION, \n",
    "    display_name: str = DISPLAY_NAME,\n",
    "    api_endpoint: str = REGION + \"-aiplatform.googleapis.com\",\n",
    "    thresholds: str = '{\"roc\":0.8}',\n",
    "    serving_container_image_uri: str = \"europe-docker.pkg.dev/vertex-ai/prediction/sklearn-cpu.0-24:latest\"\n",
    "    ):\n",
    "    \n",
    "    # Operators\n",
    "    data_op = get_wine_data(url)\n",
    "    train_model_op = train_winequality(data_op.outputs[\"train_dataset\"])\n",
    "    model_evaluation_op = winequality_evaluation(\n",
    "        test_dataset=data_op.outputs[\"test_dataset\"],\n",
    "        model_rf=train_model_op.outputs[\"model\"],\n",
    "        thresholds=thresholds  # deploy the model only if the model performance is above the threshold\n",
    "    )\n",
    "    \n",
    "    with dsl.Condition(\n",
    "        model_evaluation_op.outputs[\"deploy\"]==\"true\",\n",
    "        name=\"deploy-winequality\"\n",
    "    ):\n",
    "        \n",
    "        deploy_model_op = deploy_winequality(\n",
    "            model=train_model_op.outputs[\"model\"],\n",
    "            project=project,\n",
    "            region=region,\n",
    "            serving_container_image_uri = serving_container_image_uri,\n",
    "        )"
   ]
  },
  {
   "cell_type": "markdown",
   "id": "2c52c67e-b1f0-464b-aad4-e1c32f9d9460",
   "metadata": {},
   "source": [
    "# Compile and run the pipeline"
   ]
  },
  {
   "cell_type": "code",
   "execution_count": 10,
   "id": "c633d011-e4d6-4bb2-9c93-a83c5182b99f",
   "metadata": {},
   "outputs": [
    {
     "name": "stderr",
     "output_type": "stream",
     "text": [
      "/home/jupyter/.local/lib/python3.7/site-packages/kfp/v2/compiler/compiler.py:1293: FutureWarning: APIs imported from the v1 namespace (e.g. kfp.dsl, kfp.components, etc) will not be supported by the v2 compiler since v2.0.0\n",
      "  category=FutureWarning,\n"
     ]
    }
   ],
   "source": [
    "compiler.Compiler().compile(pipeline_func=pipeline, package_path=\"ml_winequality.json\")"
   ]
  },
  {
   "cell_type": "code",
   "execution_count": 11,
   "id": "a2cad6e6-b6ba-42b1-aa52-d803a98068cd",
   "metadata": {},
   "outputs": [],
   "source": [
    "start_pipeline = pipeline_jobs.PipelineJob(\n",
    "    display_name=\"winequality-pipeline\",\n",
    "    template_path=\"ml_winequality.json\",\n",
    "    enable_caching=False,\n",
    "    location=REGION,\n",
    ")"
   ]
  },
  {
   "cell_type": "code",
   "execution_count": 16,
   "id": "ffac1a17-e5c9-4da3-8c53-27d9ae282ba1",
   "metadata": {},
   "outputs": [
    {
     "name": "stdout",
     "output_type": "stream",
     "text": [
      "INFO:google.cloud.aiplatform.pipeline_jobs:Creating PipelineJob\n"
     ]
    },
    {
     "ename": "InvalidArgument",
     "evalue": "400 Exactly one of deployment_config and deployment_spec is expected.",
     "output_type": "error",
     "traceback": [
      "\u001b[0;31m---------------------------------------------------------------------------\u001b[0m",
      "\u001b[0;31m_InactiveRpcError\u001b[0m                         Traceback (most recent call last)",
      "\u001b[0;32m/opt/conda/lib/python3.7/site-packages/google/api_core/grpc_helpers.py\u001b[0m in \u001b[0;36merror_remapped_callable\u001b[0;34m(*args, **kwargs)\u001b[0m\n\u001b[1;32m     56\u001b[0m         \u001b[0;32mtry\u001b[0m\u001b[0;34m:\u001b[0m\u001b[0;34m\u001b[0m\u001b[0;34m\u001b[0m\u001b[0m\n\u001b[0;32m---> 57\u001b[0;31m             \u001b[0;32mreturn\u001b[0m \u001b[0mcallable_\u001b[0m\u001b[0;34m(\u001b[0m\u001b[0;34m*\u001b[0m\u001b[0margs\u001b[0m\u001b[0;34m,\u001b[0m \u001b[0;34m**\u001b[0m\u001b[0mkwargs\u001b[0m\u001b[0;34m)\u001b[0m\u001b[0;34m\u001b[0m\u001b[0;34m\u001b[0m\u001b[0m\n\u001b[0m\u001b[1;32m     58\u001b[0m         \u001b[0;32mexcept\u001b[0m \u001b[0mgrpc\u001b[0m\u001b[0;34m.\u001b[0m\u001b[0mRpcError\u001b[0m \u001b[0;32mas\u001b[0m \u001b[0mexc\u001b[0m\u001b[0;34m:\u001b[0m\u001b[0;34m\u001b[0m\u001b[0;34m\u001b[0m\u001b[0m\n",
      "\u001b[0;32m/opt/conda/lib/python3.7/site-packages/grpc/_channel.py\u001b[0m in \u001b[0;36m__call__\u001b[0;34m(self, request, timeout, metadata, credentials, wait_for_ready, compression)\u001b[0m\n\u001b[1;32m    945\u001b[0m                                       wait_for_ready, compression)\n\u001b[0;32m--> 946\u001b[0;31m         \u001b[0;32mreturn\u001b[0m \u001b[0m_end_unary_response_blocking\u001b[0m\u001b[0;34m(\u001b[0m\u001b[0mstate\u001b[0m\u001b[0;34m,\u001b[0m \u001b[0mcall\u001b[0m\u001b[0;34m,\u001b[0m \u001b[0;32mFalse\u001b[0m\u001b[0;34m,\u001b[0m \u001b[0;32mNone\u001b[0m\u001b[0;34m)\u001b[0m\u001b[0;34m\u001b[0m\u001b[0;34m\u001b[0m\u001b[0m\n\u001b[0m\u001b[1;32m    947\u001b[0m \u001b[0;34m\u001b[0m\u001b[0m\n",
      "\u001b[0;32m/opt/conda/lib/python3.7/site-packages/grpc/_channel.py\u001b[0m in \u001b[0;36m_end_unary_response_blocking\u001b[0;34m(state, call, with_call, deadline)\u001b[0m\n\u001b[1;32m    848\u001b[0m     \u001b[0;32melse\u001b[0m\u001b[0;34m:\u001b[0m\u001b[0;34m\u001b[0m\u001b[0;34m\u001b[0m\u001b[0m\n\u001b[0;32m--> 849\u001b[0;31m         \u001b[0;32mraise\u001b[0m \u001b[0m_InactiveRpcError\u001b[0m\u001b[0;34m(\u001b[0m\u001b[0mstate\u001b[0m\u001b[0;34m)\u001b[0m\u001b[0;34m\u001b[0m\u001b[0;34m\u001b[0m\u001b[0m\n\u001b[0m\u001b[1;32m    850\u001b[0m \u001b[0;34m\u001b[0m\u001b[0m\n",
      "\u001b[0;31m_InactiveRpcError\u001b[0m: <_InactiveRpcError of RPC that terminated with:\n\tstatus = StatusCode.INVALID_ARGUMENT\n\tdetails = \"Exactly one of deployment_config and deployment_spec is expected.\"\n\tdebug_error_string = \"UNKNOWN:Error received from peer ipv4:142.251.5.95:443 {created_time:\"2022-10-25T20:11:48.509850293+00:00\", grpc_status:3, grpc_message:\"Exactly one of deployment_config and deployment_spec is expected.\"}\"\n>",
      "\nThe above exception was the direct cause of the following exception:\n",
      "\u001b[0;31mInvalidArgument\u001b[0m                           Traceback (most recent call last)",
      "\u001b[0;32m/tmp/ipykernel_23528/1043187068.py\u001b[0m in \u001b[0;36m<module>\u001b[0;34m\u001b[0m\n\u001b[0;32m----> 1\u001b[0;31m \u001b[0mstart_pipeline\u001b[0m\u001b[0;34m.\u001b[0m\u001b[0mrun\u001b[0m\u001b[0;34m(\u001b[0m\u001b[0;34m)\u001b[0m\u001b[0;34m\u001b[0m\u001b[0;34m\u001b[0m\u001b[0m\n\u001b[0m",
      "\u001b[0;32m~/.local/lib/python3.7/site-packages/google/cloud/aiplatform/base.py\u001b[0m in \u001b[0;36mwrapper\u001b[0;34m(*args, **kwargs)\u001b[0m\n\u001b[1;32m    662\u001b[0m                 \u001b[0;32mif\u001b[0m \u001b[0mself\u001b[0m\u001b[0;34m:\u001b[0m\u001b[0;34m\u001b[0m\u001b[0;34m\u001b[0m\u001b[0m\n\u001b[1;32m    663\u001b[0m                     \u001b[0mself\u001b[0m\u001b[0;34m.\u001b[0m\u001b[0mwait\u001b[0m\u001b[0;34m(\u001b[0m\u001b[0;34m)\u001b[0m\u001b[0;34m\u001b[0m\u001b[0;34m\u001b[0m\u001b[0m\n\u001b[0;32m--> 664\u001b[0;31m                 \u001b[0;32mreturn\u001b[0m \u001b[0mmethod\u001b[0m\u001b[0;34m(\u001b[0m\u001b[0;34m*\u001b[0m\u001b[0margs\u001b[0m\u001b[0;34m,\u001b[0m \u001b[0;34m**\u001b[0m\u001b[0mkwargs\u001b[0m\u001b[0;34m)\u001b[0m\u001b[0;34m\u001b[0m\u001b[0;34m\u001b[0m\u001b[0m\n\u001b[0m\u001b[1;32m    665\u001b[0m \u001b[0;34m\u001b[0m\u001b[0m\n\u001b[1;32m    666\u001b[0m             \u001b[0;31m# callbacks to call within the Future (in same Thread)\u001b[0m\u001b[0;34m\u001b[0m\u001b[0;34m\u001b[0m\u001b[0;34m\u001b[0m\u001b[0m\n",
      "\u001b[0;32m~/.local/lib/python3.7/site-packages/google/cloud/aiplatform/pipeline_jobs.py\u001b[0m in \u001b[0;36mrun\u001b[0;34m(self, service_account, network, sync)\u001b[0m\n\u001b[1;32m    268\u001b[0m             \u001b[0mparent\u001b[0m\u001b[0;34m=\u001b[0m\u001b[0mself\u001b[0m\u001b[0;34m.\u001b[0m\u001b[0m_parent\u001b[0m\u001b[0;34m,\u001b[0m\u001b[0;34m\u001b[0m\u001b[0;34m\u001b[0m\u001b[0m\n\u001b[1;32m    269\u001b[0m             \u001b[0mpipeline_job\u001b[0m\u001b[0;34m=\u001b[0m\u001b[0mself\u001b[0m\u001b[0;34m.\u001b[0m\u001b[0m_gca_resource\u001b[0m\u001b[0;34m,\u001b[0m\u001b[0;34m\u001b[0m\u001b[0;34m\u001b[0m\u001b[0m\n\u001b[0;32m--> 270\u001b[0;31m             \u001b[0mpipeline_job_id\u001b[0m\u001b[0;34m=\u001b[0m\u001b[0mpipeline_job_id\u001b[0m\u001b[0;34m,\u001b[0m\u001b[0;34m\u001b[0m\u001b[0;34m\u001b[0m\u001b[0m\n\u001b[0m\u001b[1;32m    271\u001b[0m         )\n\u001b[1;32m    272\u001b[0m \u001b[0;34m\u001b[0m\u001b[0m\n",
      "\u001b[0;32m~/.local/lib/python3.7/site-packages/google/cloud/aiplatform_v1beta1/services/pipeline_service/client.py\u001b[0m in \u001b[0;36mcreate_pipeline_job\u001b[0;34m(self, request, parent, pipeline_job, pipeline_job_id, retry, timeout, metadata)\u001b[0m\n\u001b[1;32m   1019\u001b[0m \u001b[0;34m\u001b[0m\u001b[0m\n\u001b[1;32m   1020\u001b[0m         \u001b[0;31m# Send the request.\u001b[0m\u001b[0;34m\u001b[0m\u001b[0;34m\u001b[0m\u001b[0;34m\u001b[0m\u001b[0m\n\u001b[0;32m-> 1021\u001b[0;31m         \u001b[0mresponse\u001b[0m \u001b[0;34m=\u001b[0m \u001b[0mrpc\u001b[0m\u001b[0;34m(\u001b[0m\u001b[0mrequest\u001b[0m\u001b[0;34m,\u001b[0m \u001b[0mretry\u001b[0m\u001b[0;34m=\u001b[0m\u001b[0mretry\u001b[0m\u001b[0;34m,\u001b[0m \u001b[0mtimeout\u001b[0m\u001b[0;34m=\u001b[0m\u001b[0mtimeout\u001b[0m\u001b[0;34m,\u001b[0m \u001b[0mmetadata\u001b[0m\u001b[0;34m=\u001b[0m\u001b[0mmetadata\u001b[0m\u001b[0;34m,\u001b[0m\u001b[0;34m)\u001b[0m\u001b[0;34m\u001b[0m\u001b[0;34m\u001b[0m\u001b[0m\n\u001b[0m\u001b[1;32m   1022\u001b[0m \u001b[0;34m\u001b[0m\u001b[0m\n\u001b[1;32m   1023\u001b[0m         \u001b[0;31m# Done; return the response.\u001b[0m\u001b[0;34m\u001b[0m\u001b[0;34m\u001b[0m\u001b[0;34m\u001b[0m\u001b[0m\n",
      "\u001b[0;32m/opt/conda/lib/python3.7/site-packages/google/api_core/gapic_v1/method.py\u001b[0m in \u001b[0;36m__call__\u001b[0;34m(self, timeout, retry, *args, **kwargs)\u001b[0m\n\u001b[1;32m    152\u001b[0m             \u001b[0mkwargs\u001b[0m\u001b[0;34m[\u001b[0m\u001b[0;34m\"metadata\"\u001b[0m\u001b[0;34m]\u001b[0m \u001b[0;34m=\u001b[0m \u001b[0mmetadata\u001b[0m\u001b[0;34m\u001b[0m\u001b[0;34m\u001b[0m\u001b[0m\n\u001b[1;32m    153\u001b[0m \u001b[0;34m\u001b[0m\u001b[0m\n\u001b[0;32m--> 154\u001b[0;31m         \u001b[0;32mreturn\u001b[0m \u001b[0mwrapped_func\u001b[0m\u001b[0;34m(\u001b[0m\u001b[0;34m*\u001b[0m\u001b[0margs\u001b[0m\u001b[0;34m,\u001b[0m \u001b[0;34m**\u001b[0m\u001b[0mkwargs\u001b[0m\u001b[0;34m)\u001b[0m\u001b[0;34m\u001b[0m\u001b[0;34m\u001b[0m\u001b[0m\n\u001b[0m\u001b[1;32m    155\u001b[0m \u001b[0;34m\u001b[0m\u001b[0m\n\u001b[1;32m    156\u001b[0m \u001b[0;34m\u001b[0m\u001b[0m\n",
      "\u001b[0;32m/opt/conda/lib/python3.7/site-packages/google/api_core/grpc_helpers.py\u001b[0m in \u001b[0;36merror_remapped_callable\u001b[0;34m(*args, **kwargs)\u001b[0m\n\u001b[1;32m     57\u001b[0m             \u001b[0;32mreturn\u001b[0m \u001b[0mcallable_\u001b[0m\u001b[0;34m(\u001b[0m\u001b[0;34m*\u001b[0m\u001b[0margs\u001b[0m\u001b[0;34m,\u001b[0m \u001b[0;34m**\u001b[0m\u001b[0mkwargs\u001b[0m\u001b[0;34m)\u001b[0m\u001b[0;34m\u001b[0m\u001b[0;34m\u001b[0m\u001b[0m\n\u001b[1;32m     58\u001b[0m         \u001b[0;32mexcept\u001b[0m \u001b[0mgrpc\u001b[0m\u001b[0;34m.\u001b[0m\u001b[0mRpcError\u001b[0m \u001b[0;32mas\u001b[0m \u001b[0mexc\u001b[0m\u001b[0;34m:\u001b[0m\u001b[0;34m\u001b[0m\u001b[0;34m\u001b[0m\u001b[0m\n\u001b[0;32m---> 59\u001b[0;31m             \u001b[0;32mraise\u001b[0m \u001b[0mexceptions\u001b[0m\u001b[0;34m.\u001b[0m\u001b[0mfrom_grpc_error\u001b[0m\u001b[0;34m(\u001b[0m\u001b[0mexc\u001b[0m\u001b[0;34m)\u001b[0m \u001b[0;32mfrom\u001b[0m \u001b[0mexc\u001b[0m\u001b[0;34m\u001b[0m\u001b[0;34m\u001b[0m\u001b[0m\n\u001b[0m\u001b[1;32m     60\u001b[0m \u001b[0;34m\u001b[0m\u001b[0m\n\u001b[1;32m     61\u001b[0m     \u001b[0;32mreturn\u001b[0m \u001b[0merror_remapped_callable\u001b[0m\u001b[0;34m\u001b[0m\u001b[0;34m\u001b[0m\u001b[0m\n",
      "\u001b[0;31mInvalidArgument\u001b[0m: 400 Exactly one of deployment_config and deployment_spec is expected."
     ]
    }
   ],
   "source": [
    "start_pipeline.run()"
   ]
  },
  {
   "cell_type": "code",
   "execution_count": null,
   "id": "a91af482-06f8-4ae8-9128-b1f84c21285b",
   "metadata": {},
   "outputs": [],
   "source": []
  }
 ],
 "metadata": {
  "environment": {
   "kernel": "python3",
   "name": "common-cpu.m97",
   "type": "gcloud",
   "uri": "gcr.io/deeplearning-platform-release/base-cpu:m97"
  },
  "kernelspec": {
   "display_name": "Python 3",
   "language": "python",
   "name": "python3"
  },
  "language_info": {
   "codemirror_mode": {
    "name": "ipython",
    "version": 3
   },
   "file_extension": ".py",
   "mimetype": "text/x-python",
   "name": "python",
   "nbconvert_exporter": "python",
   "pygments_lexer": "ipython3",
   "version": "3.7.12"
  }
 },
 "nbformat": 4,
 "nbformat_minor": 5
}
