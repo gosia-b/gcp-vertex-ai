{
 "cells": [
  {
   "cell_type": "code",
   "execution_count": 1,
   "id": "c31bcd00-221d-4ce9-bdd5-5afa8bb33680",
   "metadata": {},
   "outputs": [],
   "source": [
    "from google.cloud import storage, aiplatform"
   ]
  },
  {
   "cell_type": "code",
   "execution_count": 2,
   "id": "7835f581-77c1-4465-a9a1-293201a8a409",
   "metadata": {},
   "outputs": [],
   "source": [
    "ARTIFACT_FILENAME = \"model.pkl\"\n",
    "BUCKET = \"iris-classification\"\n",
    "ARTIFACT_URI = f\"gs://{BUCKET}\"\n",
    "MODEL = \"iris\"\n",
    "ENDPOINT = \"iris\"\n",
    "\n",
    "# the serving container image\n",
    "# https://cloud.google.com/vertex-ai/docs/predictions/pre-built-containers\n",
    "DEPLOY_IMAGE = \"europe-docker.pkg.dev/vertex-ai/prediction/sklearn-cpu.1-0:latest\"\n",
    "\n",
    "PROJECT = \"cloud4us-gcp-3fbr5mcqluov7itt4\"\n",
    "LOCATION = \"europe-west1\""
   ]
  },
  {
   "cell_type": "markdown",
   "id": "58a4accd-f6d1-47fc-8ac1-386b9a4b3080",
   "metadata": {},
   "source": [
    "# create Cloud Storage bucket"
   ]
  },
  {
   "cell_type": "code",
   "execution_count": 3,
   "id": "fd2a2ff3-ca40-4c5d-9a34-619c4406e622",
   "metadata": {},
   "outputs": [],
   "source": [
    "client = storage.Client()\n",
    "bucket = client.bucket(BUCKET)\n",
    "if not bucket.exists():\n",
    "    new_bucket = client.create_bucket(bucket, location=\"europe-west1\")"
   ]
  },
  {
   "cell_type": "markdown",
   "id": "395ae481-d432-49ed-aece-3cf31600f9af",
   "metadata": {},
   "source": [
    "# copy local .pkl file to Cloud Storage"
   ]
  },
  {
   "cell_type": "code",
   "execution_count": 4,
   "id": "3f76d5d2-f1d2-43e1-85a6-acaab0f8369e",
   "metadata": {},
   "outputs": [
    {
     "name": "stdout",
     "output_type": "stream",
     "text": [
      "Copying file://model.pkl [Content-Type=application/octet-stream]...\n",
      "/ [1 files][174.2 KiB/174.2 KiB]                                                \n",
      "Operation completed over 1 objects/174.2 KiB.                                    \n"
     ]
    }
   ],
   "source": [
    "!gsutil cp {ARTIFACT_FILENAME} {ARTIFACT_URI}"
   ]
  },
  {
   "cell_type": "markdown",
   "id": "acd29d4d-c4fe-4c96-9917-50aac03b092c",
   "metadata": {},
   "source": [
    "# init aiplatform"
   ]
  },
  {
   "cell_type": "code",
   "execution_count": 5,
   "id": "0173d9f0-5f29-4fcc-a5d2-3b356ce8ac07",
   "metadata": {},
   "outputs": [],
   "source": [
    "aiplatform.init(project=PROJECT, location=LOCATION)"
   ]
  },
  {
   "cell_type": "markdown",
   "id": "1565dc92-8dc3-4b26-b1e9-89af1202527c",
   "metadata": {},
   "source": [
    "# upload model to Vertex AI"
   ]
  },
  {
   "cell_type": "code",
   "execution_count": 6,
   "id": "b18652d7-fbf9-4c73-a5ba-14867bd7a31b",
   "metadata": {},
   "outputs": [
    {
     "name": "stdout",
     "output_type": "stream",
     "text": [
      "Creating Model\n",
      "Create Model backing LRO: projects/704710201124/locations/europe-west1/models/4002063995430240256/operations/3333931461160992768\n",
      "Model created. Resource name: projects/704710201124/locations/europe-west1/models/4002063995430240256@1\n",
      "To use this Model in another session:\n",
      "model = aiplatform.Model('projects/704710201124/locations/europe-west1/models/4002063995430240256@1')\n",
      "CPU times: user 73.6 ms, sys: 18.6 ms, total: 92.2 ms\n",
      "Wall time: 3.43 s\n"
     ]
    }
   ],
   "source": [
    "%%time\n",
    "\n",
    "model = aiplatform.Model.upload(\n",
    "    display_name=MODEL,\n",
    "    artifact_uri=ARTIFACT_URI,\n",
    "    serving_container_image_uri=DEPLOY_IMAGE\n",
    ")"
   ]
  },
  {
   "cell_type": "markdown",
   "id": "2515c163-9b81-414b-b5c7-cb8a9db5417e",
   "metadata": {},
   "source": [
    "# deploy model to endpoint"
   ]
  },
  {
   "cell_type": "code",
   "execution_count": 7,
   "id": "eaa7d4bb-b28b-4e4e-bcd9-ab1aac5d37ff",
   "metadata": {},
   "outputs": [
    {
     "name": "stdout",
     "output_type": "stream",
     "text": [
      "Creating Endpoint\n",
      "Create Endpoint backing LRO: projects/704710201124/locations/europe-west1/endpoints/9209949198902886400/operations/4679381849837928448\n",
      "Endpoint created. Resource name: projects/704710201124/locations/europe-west1/endpoints/9209949198902886400\n",
      "To use this Endpoint in another session:\n",
      "endpoint = aiplatform.Endpoint('projects/704710201124/locations/europe-west1/endpoints/9209949198902886400')\n",
      "Deploying model to Endpoint : projects/704710201124/locations/europe-west1/endpoints/9209949198902886400\n",
      "Using default machine_type: n1-standard-2\n",
      "Deploy Endpoint model backing LRO: projects/704710201124/locations/europe-west1/endpoints/9209949198902886400/operations/560839990607609856\n",
      "Endpoint model deployed. Resource name: projects/704710201124/locations/europe-west1/endpoints/9209949198902886400\n",
      "CPU times: user 112 ms, sys: 20.1 ms, total: 132 ms\n",
      "Wall time: 47.9 s\n"
     ]
    }
   ],
   "source": [
    "%%time\n",
    "\n",
    "endpoint=model.deploy(deployed_model_display_name=ENDPOINT)"
   ]
  },
  {
   "cell_type": "markdown",
   "id": "3f304ad3-de0e-440f-8bae-f7b60694a04d",
   "metadata": {},
   "source": [
    "# 🧹 [optional] clean up"
   ]
  },
  {
   "cell_type": "code",
   "execution_count": 8,
   "id": "d8fc3367-671e-400a-8721-071791f8e9f7",
   "metadata": {},
   "outputs": [
    {
     "name": "stdout",
     "output_type": "stream",
     "text": [
      "Undeploying Endpoint model: projects/704710201124/locations/europe-west1/endpoints/4675950274047639552\n",
      "Undeploy Endpoint model backing LRO: projects/704710201124/locations/europe-west1/endpoints/4675950274047639552/operations/2119085461677801472\n",
      "Endpoint model undeployed. Resource name: projects/704710201124/locations/europe-west1/endpoints/4675950274047639552\n",
      "Deleting Endpoint : projects/704710201124/locations/europe-west1/endpoints/4675950274047639552\n",
      "Delete Endpoint  backing LRO: projects/704710201124/locations/europe-west1/operations/6099141632366477312\n",
      "Endpoint deleted. . Resource name: projects/704710201124/locations/europe-west1/endpoints/4675950274047639552\n"
     ]
    }
   ],
   "source": [
    "endpoint.delete(force=True)  # force=True to undeploy all models before deleting endpoint"
   ]
  },
  {
   "cell_type": "code",
   "execution_count": 9,
   "id": "90c2ffe4-ab3c-4fa4-826c-2428e5092bfe",
   "metadata": {},
   "outputs": [
    {
     "name": "stdout",
     "output_type": "stream",
     "text": [
      "Deleting Model : projects/704710201124/locations/europe-west1/models/4639323342703165440\n",
      "Delete Model  backing LRO: projects/704710201124/locations/europe-west1/operations/6613677889793556480\n",
      "Model deleted. . Resource name: projects/704710201124/locations/europe-west1/models/4639323342703165440\n"
     ]
    }
   ],
   "source": [
    "model.delete()"
   ]
  },
  {
   "cell_type": "code",
   "execution_count": 10,
   "id": "0a5de8ea-d2b9-4aaa-bbfa-35b615ac7a6d",
   "metadata": {},
   "outputs": [
    {
     "name": "stdout",
     "output_type": "stream",
     "text": [
      "Removing objects:\n",
      "Removing gs://iris-classification/model.pkl#1666532621090516...                \n",
      "  Completed 1/1                                                                \n",
      "Removing Buckets:\n",
      "Removing gs://iris-classification/...                                          \n",
      "  Completed 1/1                                                                \n"
     ]
    }
   ],
   "source": [
    "# Delete Cloud Storage bucket\n",
    "!gcloud storage rm --recursive {ARTIFACT_URI}"
   ]
  },
  {
   "cell_type": "code",
   "execution_count": null,
   "id": "d634d84e-153e-46a7-92e9-3b6e831ab015",
   "metadata": {},
   "outputs": [],
   "source": []
  }
 ],
 "metadata": {
  "environment": {
   "kernel": "python3",
   "name": "common-cpu.m97",
   "type": "gcloud",
   "uri": "gcr.io/deeplearning-platform-release/base-cpu:m97"
  },
  "kernelspec": {
   "display_name": "Python 3",
   "language": "python",
   "name": "python3"
  },
  "language_info": {
   "codemirror_mode": {
    "name": "ipython",
    "version": 3
   },
   "file_extension": ".py",
   "mimetype": "text/x-python",
   "name": "python",
   "nbconvert_exporter": "python",
   "pygments_lexer": "ipython3",
   "version": "3.7.12"
  }
 },
 "nbformat": 4,
 "nbformat_minor": 5
}
