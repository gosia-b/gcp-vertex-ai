{
 "cells": [
  {
   "cell_type": "code",
   "execution_count": 1,
   "id": "c31bcd00-221d-4ce9-bdd5-5afa8bb33680",
   "metadata": {},
   "outputs": [],
   "source": [
    "from google.cloud import storage, aiplatform"
   ]
  },
  {
   "cell_type": "code",
   "execution_count": 2,
   "id": "7835f581-77c1-4465-a9a1-293201a8a409",
   "metadata": {},
   "outputs": [],
   "source": [
    "ARTIFACT_FILENAME = \"model.pkl\"\n",
    "BUCKET = \"iris-classification\"\n",
    "ARTIFACT_URI = f\"gs://{BUCKET}\"\n",
    "MODEL = \"iris\"\n",
    "ENDPOINT = \"iris\"\n",
    "\n",
    "# the serving container image\n",
    "# https://cloud.google.com/vertex-ai/docs/predictions/pre-built-containers\n",
    "DEPLOY_IMAGE = \"europe-docker.pkg.dev/vertex-ai/prediction/sklearn-cpu.1-0:latest\"\n",
    "\n",
    "PROJECT = \"cloud4us-gcp-3fbr5mcqluov7itt4\"\n",
    "LOCATION = \"europe-west1\""
   ]
  },
  {
   "cell_type": "markdown",
   "id": "58a4accd-f6d1-47fc-8ac1-386b9a4b3080",
   "metadata": {},
   "source": [
    "# create Cloud Storage bucket"
   ]
  },
  {
   "cell_type": "code",
   "execution_count": 3,
   "id": "fd2a2ff3-ca40-4c5d-9a34-619c4406e622",
   "metadata": {},
   "outputs": [
    {
     "ename": "Conflict",
     "evalue": "409 POST https://storage.googleapis.com/storage/v1/b?project=cloud4us-gcp-3fbr5mcqluov7itt4&prettyPrint=false: Your previous request to create the named bucket succeeded and you already own it.",
     "output_type": "error",
     "traceback": [
      "\u001b[0;31m---------------------------------------------------------------------------\u001b[0m",
      "\u001b[0;31mConflict\u001b[0m                                  Traceback (most recent call last)",
      "\u001b[0;32m/tmp/ipykernel_17171/1606453697.py\u001b[0m in \u001b[0;36m<module>\u001b[0;34m\u001b[0m\n\u001b[1;32m      1\u001b[0m \u001b[0mstorage_client\u001b[0m \u001b[0;34m=\u001b[0m \u001b[0mstorage\u001b[0m\u001b[0;34m.\u001b[0m\u001b[0mClient\u001b[0m\u001b[0;34m(\u001b[0m\u001b[0;34m)\u001b[0m\u001b[0;34m\u001b[0m\u001b[0;34m\u001b[0m\u001b[0m\n\u001b[1;32m      2\u001b[0m \u001b[0mbucket\u001b[0m \u001b[0;34m=\u001b[0m \u001b[0mstorage_client\u001b[0m\u001b[0;34m.\u001b[0m\u001b[0mbucket\u001b[0m\u001b[0;34m(\u001b[0m\u001b[0mBUCKET\u001b[0m\u001b[0;34m)\u001b[0m\u001b[0;34m\u001b[0m\u001b[0;34m\u001b[0m\u001b[0m\n\u001b[0;32m----> 3\u001b[0;31m \u001b[0mnew_bucket\u001b[0m \u001b[0;34m=\u001b[0m \u001b[0mstorage_client\u001b[0m\u001b[0;34m.\u001b[0m\u001b[0mcreate_bucket\u001b[0m\u001b[0;34m(\u001b[0m\u001b[0mbucket\u001b[0m\u001b[0;34m,\u001b[0m \u001b[0mlocation\u001b[0m\u001b[0;34m=\u001b[0m\u001b[0;34m\"europe-west1\"\u001b[0m\u001b[0;34m)\u001b[0m\u001b[0;34m\u001b[0m\u001b[0;34m\u001b[0m\u001b[0m\n\u001b[0m",
      "\u001b[0;32m/opt/conda/lib/python3.7/site-packages/google/cloud/storage/client.py\u001b[0m in \u001b[0;36mcreate_bucket\u001b[0;34m(self, bucket_or_name, requester_pays, project, user_project, location, data_locations, predefined_acl, predefined_default_object_acl, timeout, retry)\u001b[0m\n\u001b[1;32m    995\u001b[0m             \u001b[0mtimeout\u001b[0m\u001b[0;34m=\u001b[0m\u001b[0mtimeout\u001b[0m\u001b[0;34m,\u001b[0m\u001b[0;34m\u001b[0m\u001b[0;34m\u001b[0m\u001b[0m\n\u001b[1;32m    996\u001b[0m             \u001b[0mretry\u001b[0m\u001b[0;34m=\u001b[0m\u001b[0mretry\u001b[0m\u001b[0;34m,\u001b[0m\u001b[0;34m\u001b[0m\u001b[0;34m\u001b[0m\u001b[0m\n\u001b[0;32m--> 997\u001b[0;31m             \u001b[0m_target_object\u001b[0m\u001b[0;34m=\u001b[0m\u001b[0mbucket\u001b[0m\u001b[0;34m,\u001b[0m\u001b[0;34m\u001b[0m\u001b[0;34m\u001b[0m\u001b[0m\n\u001b[0m\u001b[1;32m    998\u001b[0m         )\n\u001b[1;32m    999\u001b[0m \u001b[0;34m\u001b[0m\u001b[0m\n",
      "\u001b[0;32m/opt/conda/lib/python3.7/site-packages/google/cloud/storage/client.py\u001b[0m in \u001b[0;36m_post_resource\u001b[0;34m(self, path, data, query_params, headers, timeout, retry, _target_object)\u001b[0m\n\u001b[1;32m    612\u001b[0m             \u001b[0mtimeout\u001b[0m\u001b[0;34m=\u001b[0m\u001b[0mtimeout\u001b[0m\u001b[0;34m,\u001b[0m\u001b[0;34m\u001b[0m\u001b[0;34m\u001b[0m\u001b[0m\n\u001b[1;32m    613\u001b[0m             \u001b[0mretry\u001b[0m\u001b[0;34m=\u001b[0m\u001b[0mretry\u001b[0m\u001b[0;34m,\u001b[0m\u001b[0;34m\u001b[0m\u001b[0;34m\u001b[0m\u001b[0m\n\u001b[0;32m--> 614\u001b[0;31m             \u001b[0m_target_object\u001b[0m\u001b[0;34m=\u001b[0m\u001b[0m_target_object\u001b[0m\u001b[0;34m,\u001b[0m\u001b[0;34m\u001b[0m\u001b[0;34m\u001b[0m\u001b[0m\n\u001b[0m\u001b[1;32m    615\u001b[0m         )\n\u001b[1;32m    616\u001b[0m \u001b[0;34m\u001b[0m\u001b[0m\n",
      "\u001b[0;32m/opt/conda/lib/python3.7/site-packages/google/cloud/storage/_http.py\u001b[0m in \u001b[0;36mapi_request\u001b[0;34m(self, *args, **kwargs)\u001b[0m\n\u001b[1;32m     71\u001b[0m             \u001b[0;32mif\u001b[0m \u001b[0mretry\u001b[0m\u001b[0;34m:\u001b[0m\u001b[0;34m\u001b[0m\u001b[0;34m\u001b[0m\u001b[0m\n\u001b[1;32m     72\u001b[0m                 \u001b[0mcall\u001b[0m \u001b[0;34m=\u001b[0m \u001b[0mretry\u001b[0m\u001b[0;34m(\u001b[0m\u001b[0mcall\u001b[0m\u001b[0;34m)\u001b[0m\u001b[0;34m\u001b[0m\u001b[0;34m\u001b[0m\u001b[0m\n\u001b[0;32m---> 73\u001b[0;31m         \u001b[0;32mreturn\u001b[0m \u001b[0mcall\u001b[0m\u001b[0;34m(\u001b[0m\u001b[0;34m)\u001b[0m\u001b[0;34m\u001b[0m\u001b[0;34m\u001b[0m\u001b[0m\n\u001b[0m",
      "\u001b[0;32m/opt/conda/lib/python3.7/site-packages/google/api_core/retry.py\u001b[0m in \u001b[0;36mretry_wrapped_func\u001b[0;34m(*args, **kwargs)\u001b[0m\n\u001b[1;32m    286\u001b[0m                 \u001b[0msleep_generator\u001b[0m\u001b[0;34m,\u001b[0m\u001b[0;34m\u001b[0m\u001b[0;34m\u001b[0m\u001b[0m\n\u001b[1;32m    287\u001b[0m                 \u001b[0mself\u001b[0m\u001b[0;34m.\u001b[0m\u001b[0m_deadline\u001b[0m\u001b[0;34m,\u001b[0m\u001b[0;34m\u001b[0m\u001b[0;34m\u001b[0m\u001b[0m\n\u001b[0;32m--> 288\u001b[0;31m                 \u001b[0mon_error\u001b[0m\u001b[0;34m=\u001b[0m\u001b[0mon_error\u001b[0m\u001b[0;34m,\u001b[0m\u001b[0;34m\u001b[0m\u001b[0;34m\u001b[0m\u001b[0m\n\u001b[0m\u001b[1;32m    289\u001b[0m             )\n\u001b[1;32m    290\u001b[0m \u001b[0;34m\u001b[0m\u001b[0m\n",
      "\u001b[0;32m/opt/conda/lib/python3.7/site-packages/google/api_core/retry.py\u001b[0m in \u001b[0;36mretry_target\u001b[0;34m(target, predicate, sleep_generator, deadline, on_error)\u001b[0m\n\u001b[1;32m    188\u001b[0m     \u001b[0;32mfor\u001b[0m \u001b[0msleep\u001b[0m \u001b[0;32min\u001b[0m \u001b[0msleep_generator\u001b[0m\u001b[0;34m:\u001b[0m\u001b[0;34m\u001b[0m\u001b[0;34m\u001b[0m\u001b[0m\n\u001b[1;32m    189\u001b[0m         \u001b[0;32mtry\u001b[0m\u001b[0;34m:\u001b[0m\u001b[0;34m\u001b[0m\u001b[0;34m\u001b[0m\u001b[0m\n\u001b[0;32m--> 190\u001b[0;31m             \u001b[0;32mreturn\u001b[0m \u001b[0mtarget\u001b[0m\u001b[0;34m(\u001b[0m\u001b[0;34m)\u001b[0m\u001b[0;34m\u001b[0m\u001b[0;34m\u001b[0m\u001b[0m\n\u001b[0m\u001b[1;32m    191\u001b[0m \u001b[0;34m\u001b[0m\u001b[0m\n\u001b[1;32m    192\u001b[0m         \u001b[0;31m# pylint: disable=broad-except\u001b[0m\u001b[0;34m\u001b[0m\u001b[0;34m\u001b[0m\u001b[0;34m\u001b[0m\u001b[0m\n",
      "\u001b[0;32m/opt/conda/lib/python3.7/site-packages/google/cloud/_http/__init__.py\u001b[0m in \u001b[0;36mapi_request\u001b[0;34m(self, method, path, query_params, data, content_type, headers, api_base_url, api_version, expect_json, _target_object, timeout, extra_api_info)\u001b[0m\n\u001b[1;32m    492\u001b[0m \u001b[0;34m\u001b[0m\u001b[0m\n\u001b[1;32m    493\u001b[0m         \u001b[0;32mif\u001b[0m \u001b[0;32mnot\u001b[0m \u001b[0;36m200\u001b[0m \u001b[0;34m<=\u001b[0m \u001b[0mresponse\u001b[0m\u001b[0;34m.\u001b[0m\u001b[0mstatus_code\u001b[0m \u001b[0;34m<\u001b[0m \u001b[0;36m300\u001b[0m\u001b[0;34m:\u001b[0m\u001b[0;34m\u001b[0m\u001b[0;34m\u001b[0m\u001b[0m\n\u001b[0;32m--> 494\u001b[0;31m             \u001b[0;32mraise\u001b[0m \u001b[0mexceptions\u001b[0m\u001b[0;34m.\u001b[0m\u001b[0mfrom_http_response\u001b[0m\u001b[0;34m(\u001b[0m\u001b[0mresponse\u001b[0m\u001b[0;34m)\u001b[0m\u001b[0;34m\u001b[0m\u001b[0;34m\u001b[0m\u001b[0m\n\u001b[0m\u001b[1;32m    495\u001b[0m \u001b[0;34m\u001b[0m\u001b[0m\n\u001b[1;32m    496\u001b[0m         \u001b[0;32mif\u001b[0m \u001b[0mexpect_json\u001b[0m \u001b[0;32mand\u001b[0m \u001b[0mresponse\u001b[0m\u001b[0;34m.\u001b[0m\u001b[0mcontent\u001b[0m\u001b[0;34m:\u001b[0m\u001b[0;34m\u001b[0m\u001b[0;34m\u001b[0m\u001b[0m\n",
      "\u001b[0;31mConflict\u001b[0m: 409 POST https://storage.googleapis.com/storage/v1/b?project=cloud4us-gcp-3fbr5mcqluov7itt4&prettyPrint=false: Your previous request to create the named bucket succeeded and you already own it."
     ]
    }
   ],
   "source": [
    "storage_client = storage.Client()\n",
    "bucket = storage_client.bucket(BUCKET)\n",
    "new_bucket = storage_client.create_bucket(bucket, location=\"europe-west1\")"
   ]
  },
  {
   "cell_type": "markdown",
   "id": "395ae481-d432-49ed-aece-3cf31600f9af",
   "metadata": {},
   "source": [
    "# copy local .pkl file to Cloud Storage"
   ]
  },
  {
   "cell_type": "code",
   "execution_count": 4,
   "id": "3f76d5d2-f1d2-43e1-85a6-acaab0f8369e",
   "metadata": {},
   "outputs": [
    {
     "name": "stdout",
     "output_type": "stream",
     "text": [
      "Copying file://model.pkl [Content-Type=application/octet-stream]...\n",
      "/ [1 files][172.2 KiB/172.2 KiB]                                                \n",
      "Operation completed over 1 objects/172.2 KiB.                                    \n"
     ]
    }
   ],
   "source": [
    "!gsutil cp {ARTIFACT_FILENAME} {ARTIFACT_URI}"
   ]
  },
  {
   "cell_type": "markdown",
   "id": "acd29d4d-c4fe-4c96-9917-50aac03b092c",
   "metadata": {},
   "source": [
    "# init aiplatform"
   ]
  },
  {
   "cell_type": "code",
   "execution_count": 5,
   "id": "0173d9f0-5f29-4fcc-a5d2-3b356ce8ac07",
   "metadata": {},
   "outputs": [],
   "source": [
    "aiplatform.init(project=PROJECT, location=LOCATION)"
   ]
  },
  {
   "cell_type": "markdown",
   "id": "1565dc92-8dc3-4b26-b1e9-89af1202527c",
   "metadata": {},
   "source": [
    "# upload model to Vertex AI"
   ]
  },
  {
   "cell_type": "code",
   "execution_count": 8,
   "id": "b18652d7-fbf9-4c73-a5ba-14867bd7a31b",
   "metadata": {},
   "outputs": [
    {
     "name": "stdout",
     "output_type": "stream",
     "text": [
      "Creating Model\n",
      "Create Model backing LRO: projects/704710201124/locations/europe-west1/models/4723202885762940928/operations/5935745408385941504\n",
      "Model created. Resource name: projects/704710201124/locations/europe-west1/models/4723202885762940928@1\n",
      "To use this Model in another session:\n",
      "model = aiplatform.Model('projects/704710201124/locations/europe-west1/models/4723202885762940928@1')\n",
      "CPU times: user 53.9 ms, sys: 4.88 ms, total: 58.8 ms\n",
      "Wall time: 5.18 s\n"
     ]
    }
   ],
   "source": [
    "%%time\n",
    "\n",
    "model = aiplatform.Model.upload(\n",
    "    display_name=MODEL,\n",
    "    artifact_uri=ARTIFACT_URI,\n",
    "    serving_container_image_uri=DEPLOY_IMAGE\n",
    ")"
   ]
  },
  {
   "cell_type": "markdown",
   "id": "2515c163-9b81-414b-b5c7-cb8a9db5417e",
   "metadata": {},
   "source": [
    "# deploy model to endpoint"
   ]
  },
  {
   "cell_type": "code",
   "execution_count": 13,
   "id": "eaa7d4bb-b28b-4e4e-bcd9-ab1aac5d37ff",
   "metadata": {},
   "outputs": [
    {
     "name": "stdout",
     "output_type": "stream",
     "text": [
      "Creating Endpoint\n",
      "Create Endpoint backing LRO: projects/704710201124/locations/europe-west1/endpoints/4697342372277649408/operations/6305037279295438848\n",
      "Endpoint created. Resource name: projects/704710201124/locations/europe-west1/endpoints/4697342372277649408\n",
      "To use this Endpoint in another session:\n",
      "endpoint = aiplatform.Endpoint('projects/704710201124/locations/europe-west1/endpoints/4697342372277649408')\n",
      "Deploying model to Endpoint : projects/704710201124/locations/europe-west1/endpoints/4697342372277649408\n",
      "Using default machine_type: n1-standard-2\n",
      "Deploy Endpoint model backing LRO: projects/704710201124/locations/europe-west1/endpoints/4697342372277649408/operations/7512001979430731776\n",
      "Endpoint model deployed. Resource name: projects/704710201124/locations/europe-west1/endpoints/4697342372277649408\n",
      "CPU times: user 275 ms, sys: 52.2 ms, total: 327 ms\n",
      "Wall time: 13min 56s\n"
     ]
    }
   ],
   "source": [
    "%%time\n",
    "\n",
    "endpoint=model.deploy(deployed_model_display_name=ENDPOINT)"
   ]
  },
  {
   "cell_type": "markdown",
   "id": "3f304ad3-de0e-440f-8bae-f7b60694a04d",
   "metadata": {},
   "source": [
    "# 🧹 clean up"
   ]
  },
  {
   "cell_type": "code",
   "execution_count": 15,
   "id": "d8fc3367-671e-400a-8721-071791f8e9f7",
   "metadata": {},
   "outputs": [
    {
     "name": "stdout",
     "output_type": "stream",
     "text": [
      "Undeploying Endpoint model: projects/704710201124/locations/europe-west1/endpoints/4697342372277649408\n",
      "Undeploy Endpoint model backing LRO: projects/704710201124/locations/europe-west1/endpoints/4697342372277649408/operations/6327555277432291328\n",
      "Endpoint model undeployed. Resource name: projects/704710201124/locations/europe-west1/endpoints/4697342372277649408\n",
      "Deleting Endpoint : projects/704710201124/locations/europe-west1/endpoints/4697342372277649408\n",
      "Delete Endpoint  backing LRO: projects/704710201124/locations/europe-west1/operations/441353862993936384\n",
      "Endpoint deleted. . Resource name: projects/704710201124/locations/europe-west1/endpoints/4697342372277649408\n"
     ]
    }
   ],
   "source": [
    "endpoint.delete(force=True)  # force=True to undeploy all models before deleting endpoint"
   ]
  },
  {
   "cell_type": "code",
   "execution_count": 16,
   "id": "90c2ffe4-ab3c-4fa4-826c-2428e5092bfe",
   "metadata": {},
   "outputs": [
    {
     "name": "stdout",
     "output_type": "stream",
     "text": [
      "Deleting Model : projects/704710201124/locations/europe-west1/models/4723202885762940928\n",
      "Delete Model  backing LRO: projects/704710201124/locations/europe-west1/operations/1805944550087196672\n",
      "Model deleted. . Resource name: projects/704710201124/locations/europe-west1/models/4723202885762940928\n"
     ]
    }
   ],
   "source": [
    "model.delete()"
   ]
  },
  {
   "cell_type": "code",
   "execution_count": 17,
   "id": "0a5de8ea-d2b9-4aaa-bbfa-35b615ac7a6d",
   "metadata": {},
   "outputs": [
    {
     "name": "stdout",
     "output_type": "stream",
     "text": [
      "Removing objects:\n",
      "Removing gs://iris-classification/model.pkl#1665937786782425...                \n",
      "  Completed 1/1                                                                \n",
      "Removing Buckets:\n",
      "Removing gs://iris-classification/...                                          \n",
      "  Completed 1/1                                                                \n"
     ]
    }
   ],
   "source": [
    "# Delete Cloud Storage bucket\n",
    "!gcloud storage rm --recursive {ARTIFACT_URI}"
   ]
  },
  {
   "cell_type": "code",
   "execution_count": null,
   "id": "d634d84e-153e-46a7-92e9-3b6e831ab015",
   "metadata": {},
   "outputs": [],
   "source": []
  }
 ],
 "metadata": {
  "environment": {
   "kernel": "python3",
   "name": "common-cpu.m97",
   "type": "gcloud",
   "uri": "gcr.io/deeplearning-platform-release/base-cpu:m97"
  },
  "kernelspec": {
   "display_name": "Python 3",
   "language": "python",
   "name": "python3"
  },
  "language_info": {
   "codemirror_mode": {
    "name": "ipython",
    "version": 3
   },
   "file_extension": ".py",
   "mimetype": "text/x-python",
   "name": "python",
   "nbconvert_exporter": "python",
   "pygments_lexer": "ipython3",
   "version": "3.7.12"
  }
 },
 "nbformat": 4,
 "nbformat_minor": 5
}
