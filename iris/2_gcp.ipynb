{
 "cells": [
  {
   "cell_type": "code",
   "execution_count": 2,
   "id": "c31bcd00-221d-4ce9-bdd5-5afa8bb33680",
   "metadata": {},
   "outputs": [],
   "source": [
    "from google.cloud import storage, aiplatform\n",
    "import tensorflow as tf"
   ]
  },
  {
   "cell_type": "code",
   "execution_count": 3,
   "id": "7835f581-77c1-4465-a9a1-293201a8a409",
   "metadata": {},
   "outputs": [],
   "source": [
    "ARTIFACT_FILENAME = \"model.pkl\"\n",
    "BUCKET = \"iris-classification\"\n",
    "ARTIFACT_URI = f\"gs://{BUCKET}\"\n",
    "MODEL = \"iris\"\n",
    "ENDPOINT = MODEL + \"_endpoint\"\n",
    "\n",
    "# the serving container image\n",
    "# https://cloud.google.com/vertex-ai/docs/predictions/pre-built-containers\n",
    "DEPLOY_IMAGE = \"europe-docker.pkg.dev/vertex-ai/prediction/sklearn-cpu.1-0:latest\"\n",
    "\n",
    "PROJECT = \"cloud4us-gcp-3fbr5mcqluov7itt4\"\n",
    "LOCATION = \"europe-west1\""
   ]
  },
  {
   "cell_type": "markdown",
   "id": "58a4accd-f6d1-47fc-8ac1-386b9a4b3080",
   "metadata": {},
   "source": [
    "# create Cloud Storage bucket"
   ]
  },
  {
   "cell_type": "code",
   "execution_count": 4,
   "id": "fd2a2ff3-ca40-4c5d-9a34-619c4406e622",
   "metadata": {},
   "outputs": [],
   "source": [
    "client = storage.Client()\n",
    "bucket = client.bucket(BUCKET)\n",
    "if not bucket.exists():\n",
    "    new_bucket = client.create_bucket(bucket, location=\"europe-west1\")"
   ]
  },
  {
   "cell_type": "markdown",
   "id": "395ae481-d432-49ed-aece-3cf31600f9af",
   "metadata": {},
   "source": [
    "# copy local .pkl file to Cloud Storage"
   ]
  },
  {
   "cell_type": "code",
   "execution_count": 5,
   "id": "3f76d5d2-f1d2-43e1-85a6-acaab0f8369e",
   "metadata": {},
   "outputs": [
    {
     "name": "stdout",
     "output_type": "stream",
     "text": [
      "Copying file://model.pkl [Content-Type=application/octet-stream]...\n",
      "/ [1 files][174.2 KiB/174.2 KiB]                                                \n",
      "Operation completed over 1 objects/174.2 KiB.                                    \n"
     ]
    }
   ],
   "source": [
    "!gsutil cp {ARTIFACT_FILENAME} {ARTIFACT_URI}"
   ]
  },
  {
   "cell_type": "markdown",
   "id": "acd29d4d-c4fe-4c96-9917-50aac03b092c",
   "metadata": {},
   "source": [
    "# init aiplatform"
   ]
  },
  {
   "cell_type": "code",
   "execution_count": 6,
   "id": "0173d9f0-5f29-4fcc-a5d2-3b356ce8ac07",
   "metadata": {},
   "outputs": [],
   "source": [
    "aiplatform.init(project=PROJECT, location=LOCATION)"
   ]
  },
  {
   "cell_type": "markdown",
   "id": "1565dc92-8dc3-4b26-b1e9-89af1202527c",
   "metadata": {},
   "source": [
    "# upload model to Vertex AI"
   ]
  },
  {
   "cell_type": "code",
   "execution_count": 7,
   "id": "b18652d7-fbf9-4c73-a5ba-14867bd7a31b",
   "metadata": {},
   "outputs": [
    {
     "name": "stdout",
     "output_type": "stream",
     "text": [
      "Creating Model\n",
      "Create Model backing LRO: projects/704710201124/locations/europe-west1/models/1180558828882624512/operations/7986149876234715136\n",
      "Model created. Resource name: projects/704710201124/locations/europe-west1/models/1180558828882624512@1\n",
      "To use this Model in another session:\n",
      "model = aiplatform.Model('projects/704710201124/locations/europe-west1/models/1180558828882624512@1')\n",
      "CPU times: user 70.3 ms, sys: 15.4 ms, total: 85.7 ms\n",
      "Wall time: 18 s\n"
     ]
    }
   ],
   "source": [
    "%%time\n",
    "\n",
    "model = aiplatform.Model.upload(\n",
    "    display_name=MODEL,\n",
    "    artifact_uri=ARTIFACT_URI,\n",
    "    serving_container_image_uri=DEPLOY_IMAGE\n",
    ")"
   ]
  },
  {
   "cell_type": "markdown",
   "id": "2515c163-9b81-414b-b5c7-cb8a9db5417e",
   "metadata": {},
   "source": [
    "# deploy model to endpoint"
   ]
  },
  {
   "cell_type": "code",
   "execution_count": 8,
   "id": "eaa7d4bb-b28b-4e4e-bcd9-ab1aac5d37ff",
   "metadata": {},
   "outputs": [
    {
     "name": "stdout",
     "output_type": "stream",
     "text": [
      "Creating Endpoint\n",
      "Create Endpoint backing LRO: projects/704710201124/locations/europe-west1/endpoints/1122610168052318208/operations/6279285617461297152\n",
      "Endpoint created. Resource name: projects/704710201124/locations/europe-west1/endpoints/1122610168052318208\n",
      "To use this Endpoint in another session:\n",
      "endpoint = aiplatform.Endpoint('projects/704710201124/locations/europe-west1/endpoints/1122610168052318208')\n",
      "Deploying model to Endpoint : projects/704710201124/locations/europe-west1/endpoints/1122610168052318208\n",
      "Using default machine_type: n1-standard-2\n",
      "Deploy Endpoint model backing LRO: projects/704710201124/locations/europe-west1/endpoints/1122610168052318208/operations/7882567084805193728\n",
      "Endpoint model deployed. Resource name: projects/704710201124/locations/europe-west1/endpoints/1122610168052318208\n",
      "CPU times: user 132 ms, sys: 16.9 ms, total: 149 ms\n",
      "Wall time: 2min\n"
     ]
    }
   ],
   "source": [
    "%%time\n",
    "endpoint = model.deploy()"
   ]
  },
  {
   "cell_type": "markdown",
   "id": "17e3537b-0e43-4591-bd4e-26f5886a0bfb",
   "metadata": {},
   "source": [
    "# 1️⃣ online predictions (using endpoint)"
   ]
  },
  {
   "cell_type": "code",
   "execution_count": 9,
   "id": "1e344570-6d29-4656-9647-96e8b3be2aaa",
   "metadata": {},
   "outputs": [],
   "source": [
    "instances = [\n",
    "    [6.8, 3.2, 5.7, 2.3],\n",
    "    [5.0 , 2.0 , 3.5, 1.0],\n",
    "    [5.4, 3.4, 1.7, 0.2]\n",
    "]"
   ]
  },
  {
   "cell_type": "code",
   "execution_count": 10,
   "id": "d556390a-c03a-4a03-bcb7-1d40a745cc3e",
   "metadata": {},
   "outputs": [
    {
     "data": {
      "text/plain": [
       "Prediction(predictions=[2.0, 1.0, 0.0], deployed_model_id='5774124895684263936', model_version_id='1', model_resource_name='projects/704710201124/locations/europe-west1/models/1180558828882624512', explanations=None)"
      ]
     },
     "execution_count": 10,
     "metadata": {},
     "output_type": "execute_result"
    }
   ],
   "source": [
    "prediction = endpoint.predict(instances=instances)\n",
    "prediction"
   ]
  },
  {
   "cell_type": "markdown",
   "id": "9f87ffb8-404a-4958-9001-75cfd3afd6c9",
   "metadata": {},
   "source": [
    "# 2️⃣ batch predictions (using model)"
   ]
  },
  {
   "cell_type": "code",
   "execution_count": 11,
   "id": "c1f15fbc-89c2-4ad4-a23a-0a684ec604fc",
   "metadata": {},
   "outputs": [],
   "source": [
    "filename_1 = \"iris.jsonl\"\n",
    "filename_2 = \"iris_1.csv\"\n",
    "filename_3 = \"iris_2.csv\"\n",
    "\n",
    "batch_name_1 = \"batch-jsonl\"\n",
    "batch_name_2 = \"batch-csv-1\"\n",
    "batch_name_3 = \"batch-csv-2\""
   ]
  },
  {
   "cell_type": "code",
   "execution_count": 12,
   "id": "40c31e65-ab26-4aa8-a29a-2907d5b85771",
   "metadata": {},
   "outputs": [],
   "source": [
    "# Create files in Cloud Storage\n",
    "\n",
    "def create_file(filename, data_string):\n",
    "    blob = bucket.blob(filename)\n",
    "    blob.upload_from_string(data_string)\n",
    "\n",
    "data_string = \"\"\"\n",
    "[6.8, 3.2, 5.7, 2.3]\n",
    "[5.0, 2.0, 3.5, 1.0]\n",
    "[5.4, 3.4, 1.7, 0.2]\n",
    "\"\"\".strip(\"\\n\")\n",
    "create_file(filename_1, data_string)\n",
    "    \n",
    "data_string = \"\"\"\n",
    "\"sepal length (cm)\",\"sepal width (cm)\",\"petal length (cm)\",\"petal width (cm)\"\n",
    "6.8,3.2,5.7,2.3\n",
    "5.0,2.0,3.5,1.0\n",
    "5.4,3.4,1.7,0.2\n",
    "\"\"\".strip(\"\\n\")\n",
    "create_file(filename_2, data_string)\n",
    "\n",
    "data_string = \"\"\"\n",
    "6.8,3.2,5.7,2.3\n",
    "5.0,2.0,3.5,1.0\n",
    "5.4,3.4,1.7,0.2\n",
    "\"\"\".strip(\"\\n\")\n",
    "create_file(filename_3, data_string)"
   ]
  },
  {
   "cell_type": "code",
   "execution_count": 13,
   "id": "43104172-8903-40e8-a53f-66d9a954d83b",
   "metadata": {},
   "outputs": [],
   "source": [
    "def create_batch_prediction_job(filename, batch_name):\n",
    "    batch_prediction_job = model.batch_predict(\n",
    "        job_display_name=batch_name,\n",
    "        gcs_source=ARTIFACT_URI + \"/\" + filename,\n",
    "        gcs_destination_prefix=ARTIFACT_URI,\n",
    "        machine_type=\"n1-standard-2\"\n",
    "    )\n",
    "    return batch_prediction_job"
   ]
  },
  {
   "cell_type": "code",
   "execution_count": null,
   "id": "2746fad1-97e4-42c4-a264-2c1e6b55aa28",
   "metadata": {},
   "outputs": [
    {
     "name": "stdout",
     "output_type": "stream",
     "text": [
      "Creating BatchPredictionJob\n",
      "BatchPredictionJob created. Resource name: projects/704710201124/locations/europe-west1/batchPredictionJobs/2041576488989360128\n",
      "To use this BatchPredictionJob in another session:\n",
      "bpj = aiplatform.BatchPredictionJob('projects/704710201124/locations/europe-west1/batchPredictionJobs/2041576488989360128')\n",
      "View Batch Prediction Job:\n",
      "https://console.cloud.google.com/ai/platform/locations/europe-west1/batch-predictions/2041576488989360128?project=704710201124\n",
      "BatchPredictionJob projects/704710201124/locations/europe-west1/batchPredictionJobs/2041576488989360128 current state:\n",
      "JobState.JOB_STATE_RUNNING\n",
      "BatchPredictionJob projects/704710201124/locations/europe-west1/batchPredictionJobs/2041576488989360128 current state:\n",
      "JobState.JOB_STATE_RUNNING\n",
      "BatchPredictionJob projects/704710201124/locations/europe-west1/batchPredictionJobs/2041576488989360128 current state:\n",
      "JobState.JOB_STATE_RUNNING\n",
      "BatchPredictionJob projects/704710201124/locations/europe-west1/batchPredictionJobs/2041576488989360128 current state:\n",
      "JobState.JOB_STATE_RUNNING\n",
      "BatchPredictionJob projects/704710201124/locations/europe-west1/batchPredictionJobs/2041576488989360128 current state:\n",
      "JobState.JOB_STATE_RUNNING\n",
      "BatchPredictionJob projects/704710201124/locations/europe-west1/batchPredictionJobs/2041576488989360128 current state:\n",
      "JobState.JOB_STATE_RUNNING\n",
      "BatchPredictionJob projects/704710201124/locations/europe-west1/batchPredictionJobs/2041576488989360128 current state:\n",
      "JobState.JOB_STATE_RUNNING\n"
     ]
    }
   ],
   "source": [
    "%%time\n",
    "batch_prediction_job_1 = create_batch_prediction_job(filename_1, batch_name_1)"
   ]
  },
  {
   "cell_type": "code",
   "execution_count": null,
   "id": "b97f9a6f-3403-4d96-b8a5-1f5995f89517",
   "metadata": {},
   "outputs": [],
   "source": [
    "%%time\n",
    "batch_prediction_job_2 = create_batch_prediction_job(filename_2, batch_name_2)"
   ]
  },
  {
   "cell_type": "code",
   "execution_count": null,
   "id": "7f05b1e0-19ea-408f-ba3f-01f353d9242f",
   "metadata": {},
   "outputs": [],
   "source": [
    "%%time\n",
    "batch_prediction_job_3 = create_batch_prediction_job(filename_3, batch_name_3)"
   ]
  },
  {
   "cell_type": "code",
   "execution_count": null,
   "id": "9e2af81b-0330-4924-8b8d-b5b86ecc767a",
   "metadata": {},
   "outputs": [],
   "source": [
    "def print_output(batch_prediction_job):\n",
    "    bp_iter_outputs = batch_prediction_job.iter_outputs()\n",
    "    \n",
    "    explanation_results = list()\n",
    "    for blob in bp_iter_outputs:\n",
    "        explanation_results.append(blob.name)\n",
    "    \n",
    "    for explanation_result in explanation_results:\n",
    "        gfile_name = f\"gs://{bp_iter_outputs.bucket.name}/{explanation_result}\"\n",
    "        with tf.io.gfile.GFile(name=gfile_name, mode=\"r\") as gfile:\n",
    "            for line in gfile.readlines():\n",
    "                print(line)"
   ]
  },
  {
   "cell_type": "code",
   "execution_count": null,
   "id": "6b981856-b10b-4c6a-bee3-d80ca53ef105",
   "metadata": {},
   "outputs": [],
   "source": [
    "print_output(batch_prediction_job_1)"
   ]
  },
  {
   "cell_type": "code",
   "execution_count": null,
   "id": "3e90746c-b4e6-4309-a944-f2220d6b8eae",
   "metadata": {},
   "outputs": [],
   "source": [
    "print_output(batch_prediction_job_2)"
   ]
  },
  {
   "cell_type": "code",
   "execution_count": null,
   "id": "4ec8023b-a490-4e08-94ca-56dc4fed4c5f",
   "metadata": {},
   "outputs": [],
   "source": [
    "print_output(batch_prediction_job_3)"
   ]
  },
  {
   "cell_type": "markdown",
   "id": "3f304ad3-de0e-440f-8bae-f7b60694a04d",
   "metadata": {},
   "source": [
    "# 🧹 [optional] clean up"
   ]
  },
  {
   "cell_type": "code",
   "execution_count": null,
   "id": "d8fc3367-671e-400a-8721-071791f8e9f7",
   "metadata": {},
   "outputs": [],
   "source": [
    "# endpoint.delete(force=True)  # force=True to undeploy all models before deleting endpoint\n",
    "# model.delete()\n",
    "# !gcloud storage rm --recursive {ARTIFACT_URI}  # delete Cloud Storage bucket\n",
    "# batch_prediction_job_1.delete()\n",
    "# batch_prediction_job_2.delete()\n",
    "# batch_prediction_job_3.delete()"
   ]
  },
  {
   "cell_type": "code",
   "execution_count": null,
   "id": "d634d84e-153e-46a7-92e9-3b6e831ab015",
   "metadata": {},
   "outputs": [],
   "source": []
  }
 ],
 "metadata": {
  "environment": {
   "kernel": "python3",
   "name": "common-cpu.m97",
   "type": "gcloud",
   "uri": "gcr.io/deeplearning-platform-release/base-cpu:m97"
  },
  "kernelspec": {
   "display_name": "Python 3",
   "language": "python",
   "name": "python3"
  },
  "language_info": {
   "codemirror_mode": {
    "name": "ipython",
    "version": 3
   },
   "file_extension": ".py",
   "mimetype": "text/x-python",
   "name": "python",
   "nbconvert_exporter": "python",
   "pygments_lexer": "ipython3",
   "version": "3.7.12"
  }
 },
 "nbformat": 4,
 "nbformat_minor": 5
}
