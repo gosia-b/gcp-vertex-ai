{
 "cells": [
  {
   "cell_type": "markdown",
   "id": "4dbe55c0-eed6-4f6e-957c-f0b346e2575a",
   "metadata": {},
   "source": [
    "# Install packages"
   ]
  },
  {
   "cell_type": "code",
   "execution_count": 1,
   "id": "1651ad39-6553-4f5d-9d0d-41eacbd35337",
   "metadata": {},
   "outputs": [],
   "source": [
    "# USER_FLAG = \"--user\"\n",
    "# ! pip3 install {USER_FLAG} google-cloud-aiplatform==1.7.0\n",
    "# ! pip3 install {USER_FLAG} kfp==1.8.9"
   ]
  },
  {
   "cell_type": "markdown",
   "id": "001a8be6-a3df-4b85-87d5-73c28454fc5a",
   "metadata": {},
   "source": [
    "# Restart kernel"
   ]
  },
  {
   "cell_type": "code",
   "execution_count": 2,
   "id": "d36a1ed7-602a-4062-93c6-8129fc2ac1fa",
   "metadata": {},
   "outputs": [],
   "source": [
    "# import os\n",
    "# import IPython\n",
    "\n",
    "# app = IPython.Application.instance()\n",
    "# app.kernel.do_shutdown(True)"
   ]
  },
  {
   "cell_type": "code",
   "execution_count": 3,
   "id": "0ccb218b-77e9-4134-8225-4f49b80e7b9a",
   "metadata": {},
   "outputs": [],
   "source": [
    "from kfp.v2 import compiler\n",
    "from kfp.v2.dsl import component, pipeline, Input, Output, OutputPath, Dataset, Metrics, Model, Artifact\n",
    "from google.cloud import aiplatform"
   ]
  },
  {
   "cell_type": "markdown",
   "id": "3daaa797-46db-47a8-b3f6-4decaad18b29",
   "metadata": {},
   "source": [
    "# Define constants"
   ]
  },
  {
   "cell_type": "code",
   "execution_count": 4,
   "id": "c321d037-19e9-4eff-b0b3-5459e8eec1fc",
   "metadata": {},
   "outputs": [],
   "source": [
    "REGION = \"europe-west1\"\n",
    "BUCKET_NAME = \"gs://my-artifacts-pipeline\"\n",
    "PIPELINE_ROOT = f\"{BUCKET_NAME}/pipeline_root/\"  # Cloud Storage path where artifacts created by our pipeline will be written\n",
    "\n",
    "shell_output = ! gcloud auth list 2>/dev/null\n",
    "SERVICE_ACCOUNT = shell_output[2].replace(\"*\", \"\").strip()\n",
    "\n",
    "shell_output = ! gcloud config list --format 'value(core.project)' 2>/dev/null\n",
    "PROJECT_ID = shell_output[0]"
   ]
  },
  {
   "cell_type": "markdown",
   "id": "1be7418c-46c9-4793-b28a-e6c95cb4d468",
   "metadata": {},
   "source": [
    "# Create a Cloud Storage bucket"
   ]
  },
  {
   "cell_type": "code",
   "execution_count": 5,
   "id": "a01b9feb-c783-43c1-95a9-e7a4e487fa80",
   "metadata": {},
   "outputs": [
    {
     "name": "stdout",
     "output_type": "stream",
     "text": [
      "Removing objects:\n",
      "Removing gs://my-artifacts-pipeline/pipeline_root/#1668808263033090...         \n",
      "Removing gs://my-artifacts-pipeline/pipeline_root/539271406833/artifacts-pipeline-large-20221118215013/#1668808289886807...\n",
      "Removing gs://my-artifacts-pipeline/pipeline_root/539271406833/artifacts-pipeline-large-20221118215013/get-data_3757410563622174720/output_data_path#1668808295515741...\n",
      "Removing gs://my-artifacts-pipeline/pipeline_root/539271406833/artifacts-pipeline-small-20221118215013/train-model_-8123085253381193728/model.joblib#1668808341973912...\n",
      "Removing gs://my-artifacts-pipeline/pipeline_root/539271406833/artifacts-pipeline-small-20221118215013/get-data_1100286783473582080/output_data_path#1668808268730669...\n",
      "Removing gs://my-artifacts-pipeline/pipeline_root/539271406833/artifacts-pipeline-small-20221118215013/train-model_-8123085253381193728/executor_output.json#1668808342278381...\n",
      "Removing gs://my-artifacts-pipeline/pipeline_root/539271406833/artifacts-pipeline-small-20221118215013/get-data_1100286783473582080/executor_output.json#1668808269007129...\n",
      "Removing gs://my-artifacts-pipeline/pipeline_root/539271406833/artifacts-pipeline-small-20221118215013/train-model_-8123085253381193728/#1668808340495911...\n",
      "Removing gs://my-artifacts-pipeline/pipeline_root/539271406833/artifacts-pipeline-small-20221118215013/get-data_1100286783473582080/#1668808263421814...\n",
      "Removing gs://my-artifacts-pipeline/pipeline_root/539271406833/artifacts-pipeline-small-20221118215013/deploy-model_-629095473436688384/#1668808395863126...\n",
      "Removing gs://my-artifacts-pipeline/pipeline_root/539271406833/artifacts-pipeline-small-20221118215013/#1668808263310870...\n",
      "Removing gs://my-artifacts-pipeline/pipeline_root/539271406833/artifacts-pipeline-large-20221118215013/train-model_-5465961473232601088/executor_output.json#1668808370737588...\n",
      "Removing gs://my-artifacts-pipeline/pipeline_root/539271406833/artifacts-pipeline-large-20221118215013/train-model_-5465961473232601088/model.joblib#1668808370428269...\n",
      "Removing gs://my-artifacts-pipeline/pipeline_root/539271406833/artifacts-pipeline-large-20221118215013/get-data_3757410563622174720/executor_output.json#1668808295787698...\n",
      "Removing gs://my-artifacts-pipeline/pipeline_root/539271406833/artifacts-pipeline-large-20221118215013/train-model_-5465961473232601088/#1668808368824405...\n",
      "Removing gs://my-artifacts-pipeline/pipeline_root/539271406833/artifacts-pipeline-large-20221118215013/get-data_3757410563622174720/#1668808290002258...\n",
      "Removing gs://my-artifacts-pipeline/pipeline_root/539271406833/#1668808263172050...\n",
      "Removing gs://my-artifacts-pipeline/pipeline_root/539271406833/artifacts-pipeline-large-20221118215013/deploy-model_-3160118464018907136/#1668808426353785...\n",
      "  Completed 18/18                                                              \n",
      "Removing Buckets:\n",
      "Removing gs://my-artifacts-pipeline/...                                        \n",
      "  Completed 1/1                                                                \n",
      "Creating gs://my-artifacts-pipeline/...\n"
     ]
    }
   ],
   "source": [
    "# But first, delete bucket if exists:\n",
    "! gcloud storage rm --recursive $BUCKET_NAME\n",
    "! gcloud storage buckets create $BUCKET_NAME --location=$REGION"
   ]
  },
  {
   "cell_type": "markdown",
   "id": "3aec6bd3-67fe-48f5-b61d-da9ab5bdc551",
   "metadata": {},
   "source": [
    "# Create components"
   ]
  },
  {
   "cell_type": "code",
   "execution_count": 6,
   "id": "40b67e4b-c43c-46e5-8d39-ba002127a8eb",
   "metadata": {},
   "outputs": [],
   "source": [
    "@component(\n",
    "    packages_to_install=[\"google-cloud-bigquery\", \"pandas\", \"db-dtypes\"],\n",
    "    base_image=\"python:3.9\",\n",
    "    output_component_file=\"get_data.yaml\"\n",
    ")\n",
    "def get_data(\n",
    "    bq_table: str,\n",
    "    output_data_path: OutputPath(\"Dataset\")\n",
    "):\n",
    "    import os\n",
    "    from google.cloud import bigquery\n",
    "    import pandas as pd\n",
    "    \n",
    "    project_number = os.environ[\"CLOUD_ML_PROJECT_ID\"]\n",
    "    bqclient = bigquery.Client(project=project_number)\n",
    "    table = bigquery.TableReference.from_string(bq_table)\n",
    "    rows = bqclient.list_rows(table)\n",
    "    dataframe = rows.to_dataframe(create_bqstorage_client=True)\n",
    "    dataframe = dataframe.sample(frac=1, random_state=2)\n",
    "    dataframe.to_csv(output_data_path)"
   ]
  },
  {
   "cell_type": "code",
   "execution_count": 7,
   "id": "8b618a0c-d4bf-4821-b660-00588d2a7a42",
   "metadata": {},
   "outputs": [],
   "source": [
    "@component(\n",
    "    packages_to_install=[\"scikit-learn\", \"pandas\", \"joblib\", \"db-dtypes\"],\n",
    "    base_image=\"python:3.9\",\n",
    "    output_component_file=\"train_model.yaml\"\n",
    ")\n",
    "def train_model(\n",
    "    dataset: Input[Dataset],\n",
    "    metrics: Output[Metrics],\n",
    "    model: Output[Model]\n",
    "):\n",
    "    from joblib import dump\n",
    "    import pandas as pd\n",
    "    from sklearn.model_selection import train_test_split\n",
    "    from sklearn.tree import DecisionTreeClassifier\n",
    "    \n",
    "    df = pd.read_csv(dataset.path)\n",
    "    labels = df.pop(\"Class\").tolist()\n",
    "    data = df.values.tolist()\n",
    "    x_train, x_test, y_train, y_test = train_test_split(data, labels)\n",
    "    classifier = DecisionTreeClassifier()\n",
    "    classifier.fit(x_train, y_train)\n",
    "    score = classifier.score(x_test, y_test)\n",
    "    print(\"accuracy is:\", score)\n",
    "    \n",
    "    metrics.log_metric(\"accuracy\", (score * 100.0))\n",
    "    metrics.log_metric(\"framework\", \"Scikit-learn\")\n",
    "    metrics.log_metric(\"dataset_size\", len(df))\n",
    "    \n",
    "    dump(classifier, model.path + \".joblib\")"
   ]
  },
  {
   "cell_type": "code",
   "execution_count": 8,
   "id": "87aa573f-6061-4d97-a174-2b301a146caf",
   "metadata": {},
   "outputs": [],
   "source": [
    "@component(\n",
    "    packages_to_install=[\"google-cloud-aiplatform\"],\n",
    "    base_image=\"python:3.9\",\n",
    "    output_component_file=\"deploy_model.yaml\"\n",
    ")\n",
    "def deploy_model(\n",
    "    model: Input[Model],\n",
    "    project: str,\n",
    "    region: str,\n",
    "    vertex_model: Output[Model],\n",
    "    vertex_endpoint: Output[Artifact]\n",
    "):\n",
    "    from google.cloud import aiplatform\n",
    "    \n",
    "    aiplatform.init(project=project, location=region)\n",
    "    \n",
    "    deployed_model = aiplatform.Model.upload(\n",
    "        display_name=\"artifacts-model\",\n",
    "        artifact_uri = model.uri.replace(\"/model\", \"/\"),\n",
    "        serving_container_image_uri=\"europe-docker.pkg.dev/vertex-ai/prediction/sklearn-cpu.0-24:latest\"\n",
    "    )\n",
    "    endpoint = deployed_model.deploy(machine_type=\"n1-standard-4\")\n",
    "    \n",
    "    vertex_model.uri = deployed_model.resource_name\n",
    "    vertex_endpoint.uri = endpoint.resource_name"
   ]
  },
  {
   "cell_type": "markdown",
   "id": "6d287edc-e197-4ad5-8e0e-ed547f47c360",
   "metadata": {},
   "source": [
    "# Define pipeline"
   ]
  },
  {
   "cell_type": "code",
   "execution_count": 9,
   "id": "e0e30052-9aaf-4a0c-aa2e-7df290c09cd8",
   "metadata": {},
   "outputs": [],
   "source": [
    "@pipeline(\n",
    "    pipeline_root=PIPELINE_ROOT,\n",
    "    name=\"artifacts-pipeline\"\n",
    ")\n",
    "def pipeline(\n",
    "    bq_table: str,\n",
    "    output_data_path: str = \"data.csv\",\n",
    "    project: str = PROJECT_ID,\n",
    "    region: str = REGION\n",
    "):\n",
    "    task_get_data = get_data(bq_table)\n",
    "    task_train_model = train_model(task_get_data.output)\n",
    "    task_deploy_model = deploy_model(task_train_model.outputs[\"model\"], project=project, region=region)"
   ]
  },
  {
   "cell_type": "markdown",
   "id": "4cec76c5-f521-4432-b419-c630bd01f297",
   "metadata": {},
   "source": [
    "# Compile pipeline"
   ]
  },
  {
   "cell_type": "markdown",
   "id": "0b403f1b-7cbc-4477-a135-cd0e2c3077f0",
   "metadata": {},
   "source": [
    "This will generate a JSON file that you'll use to run the pipeline"
   ]
  },
  {
   "cell_type": "code",
   "execution_count": 10,
   "id": "751227ed-d6f3-4ec7-b93f-2e499b5384e1",
   "metadata": {},
   "outputs": [
    {
     "name": "stderr",
     "output_type": "stream",
     "text": [
      "/home/jupyter/.local/lib/python3.7/site-packages/kfp/v2/compiler/compiler.py:1266: FutureWarning: APIs imported from the v1 namespace (e.g. kfp.dsl, kfp.components, etc) will not be supported by the v2 compiler since v2.0.0\n",
      "  category=FutureWarning,\n"
     ]
    }
   ],
   "source": [
    "compiler.Compiler().compile(\n",
    "    pipeline_func=pipeline, package_path=\"artifacts_pipeline.json\"\n",
    ")"
   ]
  },
  {
   "cell_type": "markdown",
   "id": "e42b69d0-3ab9-47b0-ae7d-30c6cbe1f03b",
   "metadata": {},
   "source": [
    "# 🕑 Define a timestamp to use for our pipeline job IDs"
   ]
  },
  {
   "cell_type": "code",
   "execution_count": 11,
   "id": "64a8459f-933a-46fe-aff8-4aed84da1afe",
   "metadata": {},
   "outputs": [],
   "source": [
    "from datetime import datetime\n",
    "\n",
    "TIMESTAMP = datetime.now().strftime(\"%Y%m%d%H%M%S\")"
   ]
  },
  {
   "cell_type": "markdown",
   "id": "e52ca84a-f4dd-48d4-8993-453ce10c13ad",
   "metadata": {},
   "source": [
    "# Create pipeline runs"
   ]
  },
  {
   "cell_type": "code",
   "execution_count": 12,
   "id": "43ec1f29-042f-4cfa-80f6-5dc4498c61c8",
   "metadata": {},
   "outputs": [],
   "source": [
    "run1 = aiplatform.PipelineJob(\n",
    "    display_name=\"artifacts-pipeline\",\n",
    "    template_path=\"artifacts_pipeline.json\",\n",
    "    job_id=f\"artifacts-pipeline-small-{TIMESTAMP}\",\n",
    "    parameter_values={\"bq_table\": \"sara-vertex-demos.beans_demo.small_dataset\"},\n",
    "    enable_caching=False,\n",
    "    location=REGION,\n",
    ")"
   ]
  },
  {
   "cell_type": "code",
   "execution_count": 13,
   "id": "529ea917-066d-4d95-b399-a5d12ffaa4bd",
   "metadata": {},
   "outputs": [],
   "source": [
    "run2 = aiplatform.PipelineJob(\n",
    "    display_name=\"artifacts-pipeline\",\n",
    "    template_path=\"artifacts_pipeline.json\",\n",
    "    job_id=f\"artifacts-pipeline-large-{TIMESTAMP}\",\n",
    "    parameter_values={\"bq_table\": \"sara-vertex-demos.beans_demo.large_dataset\"},\n",
    "    enable_caching=False,\n",
    "    location=REGION,\n",
    ")"
   ]
  },
  {
   "cell_type": "markdown",
   "id": "13b555cb-0f4e-43a3-a8b5-b1f6c368782b",
   "metadata": {},
   "source": [
    "# Start pipeline runs"
   ]
  },
  {
   "cell_type": "code",
   "execution_count": 14,
   "id": "2a6af17e-09bf-44a8-b894-ace73b0791ea",
   "metadata": {},
   "outputs": [
    {
     "name": "stdout",
     "output_type": "stream",
     "text": [
      "INFO:google.cloud.aiplatform.pipeline_jobs:Creating PipelineJob\n",
      "INFO:google.cloud.aiplatform.pipeline_jobs:PipelineJob created. Resource name: projects/539271406833/locations/europe-west1/pipelineJobs/artifacts-pipeline-small-20221119202133\n",
      "INFO:google.cloud.aiplatform.pipeline_jobs:To use this PipelineJob in another session:\n",
      "INFO:google.cloud.aiplatform.pipeline_jobs:pipeline_job = aiplatform.PipelineJob.get('projects/539271406833/locations/europe-west1/pipelineJobs/artifacts-pipeline-small-20221119202133')\n",
      "INFO:google.cloud.aiplatform.pipeline_jobs:View Pipeline Job:\n",
      "https://console.cloud.google.com/vertex-ai/locations/europe-west1/pipelines/runs/artifacts-pipeline-small-20221119202133?project=539271406833\n"
     ]
    }
   ],
   "source": [
    "run1.submit(service_account=SERVICE_ACCOUNT)"
   ]
  },
  {
   "cell_type": "code",
   "execution_count": 15,
   "id": "c0b07d18-720f-46f1-aa05-79611ee96338",
   "metadata": {},
   "outputs": [
    {
     "name": "stdout",
     "output_type": "stream",
     "text": [
      "INFO:google.cloud.aiplatform.pipeline_jobs:Creating PipelineJob\n",
      "INFO:google.cloud.aiplatform.pipeline_jobs:PipelineJob created. Resource name: projects/539271406833/locations/europe-west1/pipelineJobs/artifacts-pipeline-large-20221119202133\n",
      "INFO:google.cloud.aiplatform.pipeline_jobs:To use this PipelineJob in another session:\n",
      "INFO:google.cloud.aiplatform.pipeline_jobs:pipeline_job = aiplatform.PipelineJob.get('projects/539271406833/locations/europe-west1/pipelineJobs/artifacts-pipeline-large-20221119202133')\n",
      "INFO:google.cloud.aiplatform.pipeline_jobs:View Pipeline Job:\n",
      "https://console.cloud.google.com/vertex-ai/locations/europe-west1/pipelines/runs/artifacts-pipeline-large-20221119202133?project=539271406833\n"
     ]
    }
   ],
   "source": [
    "run2.submit(service_account=SERVICE_ACCOUNT)"
   ]
  }
 ],
 "metadata": {
  "environment": {
   "kernel": "python3",
   "name": "common-cpu.m100",
   "type": "gcloud",
   "uri": "gcr.io/deeplearning-platform-release/base-cpu:m100"
  },
  "kernelspec": {
   "display_name": "Python 3",
   "language": "python",
   "name": "python3"
  },
  "language_info": {
   "codemirror_mode": {
    "name": "ipython",
    "version": 3
   },
   "file_extension": ".py",
   "mimetype": "text/x-python",
   "name": "python",
   "nbconvert_exporter": "python",
   "pygments_lexer": "ipython3",
   "version": "3.7.12"
  }
 },
 "nbformat": 4,
 "nbformat_minor": 5
}
