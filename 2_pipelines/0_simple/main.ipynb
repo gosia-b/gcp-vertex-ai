{
 "cells": [
  {
   "cell_type": "markdown",
   "id": "c8bb9024-59b2-4271-80f9-6abbcbee1a01",
   "metadata": {},
   "source": [
    "# Install packages"
   ]
  },
  {
   "cell_type": "code",
   "execution_count": 1,
   "id": "36592a88-9bdf-45b8-9049-f51b4cef04d6",
   "metadata": {},
   "outputs": [],
   "source": [
    "# ! pip install kfp"
   ]
  },
  {
   "cell_type": "markdown",
   "id": "c982c284-0878-4d4e-a1c9-679cd74892f8",
   "metadata": {},
   "source": [
    "# Restart kernel"
   ]
  },
  {
   "cell_type": "code",
   "execution_count": 2,
   "id": "92c631e8-f160-46b8-8ecb-3cd82e128c7e",
   "metadata": {},
   "outputs": [
    {
     "data": {
      "text/plain": [
       "{'status': 'ok', 'restart': True}"
      ]
     },
     "execution_count": 2,
     "metadata": {},
     "output_type": "execute_result"
    }
   ],
   "source": [
    "import os\n",
    "import IPython\n",
    "app = IPython.Application.instance()\n",
    "app.kernel.do_shutdown(True)"
   ]
  },
  {
   "cell_type": "code",
   "execution_count": 2,
   "id": "19844ea0-aa56-410e-86bb-2d5af46c18ba",
   "metadata": {},
   "outputs": [],
   "source": [
    "from typing import NamedTuple\n",
    "from datetime import datetime\n",
    "\n",
    "import google.cloud.aiplatform as aip\n",
    "from kfp.v2.dsl import component\n",
    "from kfp import dsl\n",
    "from kfp.v2 import compiler"
   ]
  },
  {
   "cell_type": "markdown",
   "id": "131b8e18-bc9f-47e1-a430-add45d1faec4",
   "metadata": {},
   "source": [
    "# Variables"
   ]
  },
  {
   "cell_type": "code",
   "execution_count": 3,
   "id": "768b55f1-c791-444a-8195-fcd7185b1f81",
   "metadata": {},
   "outputs": [],
   "source": [
    "REGION = \"europe-west1\"\n",
    "BUCKET_NAME = \"my-simple-pipeline\""
   ]
  },
  {
   "cell_type": "code",
   "execution_count": 4,
   "id": "641b5cef-9ff1-448f-88e5-bb80dbeeb5e4",
   "metadata": {},
   "outputs": [],
   "source": [
    "BUCKET_URI = f\"gs://{BUCKET_NAME}\"\n",
    "PIPELINE_ROOT = f\"{BUCKET_URI}/pipeline_root/simple\""
   ]
  },
  {
   "cell_type": "code",
   "execution_count": 5,
   "id": "c3b64279-9c28-477e-a9d3-af6c09e365ac",
   "metadata": {},
   "outputs": [],
   "source": [
    "# Get some variables from gcloud\n",
    "\n",
    "shell_output = ! gcloud auth list 2>/dev/null\n",
    "SERVICE_ACCOUNT = shell_output[2].replace(\"*\", \"\").strip()\n",
    "\n",
    "shell_output = ! gcloud config list --format 'value(core.project)' 2>/dev/null\n",
    "PROJECT_ID = shell_output[0]"
   ]
  },
  {
   "cell_type": "code",
   "execution_count": 6,
   "id": "d15d84d1-6672-4360-8d25-bd1e5152f27e",
   "metadata": {},
   "outputs": [],
   "source": [
    "TIMESTAMP = datetime.now().strftime(\"%Y%m%d%H%M%S\")\n",
    "PIPELINE_DISPLAY_NAME = \"simple_\" + TIMESTAMP"
   ]
  },
  {
   "cell_type": "markdown",
   "id": "0070a11a-7873-4833-b269-06d57342b688",
   "metadata": {},
   "source": [
    "# Create a Cloud Storage bucket"
   ]
  },
  {
   "cell_type": "code",
   "execution_count": 7,
   "id": "9982d21b-b513-42e7-8e3e-ae95c49f6d48",
   "metadata": {},
   "outputs": [
    {
     "name": "stdout",
     "output_type": "stream",
     "text": [
      "Creating gs://my-simple-pipeline/...\n",
      "\u001b[1;31mERROR:\u001b[0m (gcloud.storage.buckets.create) HTTPError 409: Your previous request to create the named bucket succeeded and you already own it.\n"
     ]
    }
   ],
   "source": [
    "! gcloud storage buckets create $BUCKET_URI --location=$REGION"
   ]
  },
  {
   "cell_type": "markdown",
   "id": "c7a44252-752a-4592-8aa8-0095dfc9851d",
   "metadata": {},
   "source": [
    "# Initialize Vertex AI SDK for Python"
   ]
  },
  {
   "cell_type": "code",
   "execution_count": 8,
   "id": "272e75b9-ab7b-4078-b6a1-c1a834fb47e1",
   "metadata": {},
   "outputs": [],
   "source": [
    "aip.init(project=PROJECT_ID, staging_bucket=BUCKET_URI)"
   ]
  },
  {
   "cell_type": "markdown",
   "id": "ab8f542d-e02c-44c8-9919-b3aa0dcb77c1",
   "metadata": {},
   "source": [
    "# Define pipeline components"
   ]
  },
  {
   "cell_type": "code",
   "execution_count": 9,
   "id": "235e71c8-3d04-4908-90af-6e9f3bb4af0f",
   "metadata": {},
   "outputs": [],
   "source": [
    "@component(output_component_file=\"hw.yaml\", base_image=\"python:3.9\")\n",
    "def hello_world(text: str) -> str:\n",
    "    print(text)\n",
    "    return text"
   ]
  },
  {
   "cell_type": "code",
   "execution_count": 10,
   "id": "0335a4ad-0ad1-43fc-b57d-f649a8876231",
   "metadata": {},
   "outputs": [],
   "source": [
    "@component(packages_to_install=[\"google-cloud-storage\"])\n",
    "def two_outputs(text: str) -> NamedTuple(\"Outputs\", [(\"output_one\", str), (\"output_two\", str)]):\n",
    "    from google.cloud import storage\n",
    "    o1 = f\"output one from text: {text}\"\n",
    "    o2 = f\"output two from text: {text}\"\n",
    "    print(f\"output_one: {o1}, output_two: {o2}\")\n",
    "    return (o1, o2)"
   ]
  },
  {
   "cell_type": "code",
   "execution_count": 11,
   "id": "4ccfcdf3-b4a1-45d6-a4cf-03c4e658e80e",
   "metadata": {},
   "outputs": [],
   "source": [
    "@component\n",
    "def consumer(text1: str, text2: str, text3: str):\n",
    "    print(f\"text1: {text1}, text2: {text2}, text3: {text3}\")"
   ]
  },
  {
   "cell_type": "markdown",
   "id": "b7cac1fc-174c-44e2-89cd-b2f74774f393",
   "metadata": {},
   "source": [
    "# Define a pipeline that uses the components"
   ]
  },
  {
   "cell_type": "code",
   "execution_count": 12,
   "id": "0c83f0ac-cb34-4003-9d89-fa14b4ac0b8b",
   "metadata": {},
   "outputs": [],
   "source": [
    "@dsl.pipeline(\n",
    "    name=\"hello-world-pipeline\",\n",
    "    description=\"A simple pipeline\",\n",
    "    pipeline_root=PIPELINE_ROOT\n",
    ")\n",
    "def pipeline(text: str = \"hi there\"):\n",
    "    hw_task = hello_world(text)\n",
    "    two_outputs_task = two_outputs(text)\n",
    "    consumer_task = consumer(\n",
    "        hw_task.output,\n",
    "        two_outputs_task.outputs[\"output_one\"],\n",
    "        two_outputs_task.outputs[\"output_two\"]\n",
    "    )"
   ]
  },
  {
   "cell_type": "markdown",
   "id": "98d74178-546d-4bb0-a131-eb61eb9a44c4",
   "metadata": {},
   "source": [
    "# Compile pipeline"
   ]
  },
  {
   "cell_type": "code",
   "execution_count": 13,
   "id": "fcdd5d49-12b6-4f41-9722-6d6d09436437",
   "metadata": {},
   "outputs": [
    {
     "name": "stderr",
     "output_type": "stream",
     "text": [
      "/home/jupyter/.local/lib/python3.7/site-packages/kfp/v2/compiler/compiler.py:1293: FutureWarning: APIs imported from the v1 namespace (e.g. kfp.dsl, kfp.components, etc) will not be supported by the v2 compiler since v2.0.0\n",
      "  category=FutureWarning,\n"
     ]
    }
   ],
   "source": [
    "compiler.Compiler().compile(pipeline_func=pipeline, package_path=\"simple_pipeline.json\")"
   ]
  },
  {
   "cell_type": "markdown",
   "id": "103c4b8c-4705-4f07-bd2b-3522d6e11742",
   "metadata": {},
   "source": [
    "# Run pipeline"
   ]
  },
  {
   "cell_type": "code",
   "execution_count": 19,
   "id": "fca95b31-5aaa-49ef-aaff-12c0d58b0e2e",
   "metadata": {},
   "outputs": [],
   "source": [
    "job = aip.PipelineJob(\n",
    "    display_name=PIPELINE_DISPLAY_NAME,\n",
    "    template_path=\"simple_pipeline.json\",\n",
    "    pipeline_root=PIPELINE_ROOT,\n",
    "    location=REGION\n",
    ")"
   ]
  },
  {
   "cell_type": "code",
   "execution_count": 20,
   "id": "60a25a16-58c0-4042-8a92-ba0a927814bf",
   "metadata": {},
   "outputs": [
    {
     "name": "stdout",
     "output_type": "stream",
     "text": [
      "Creating PipelineJob\n",
      "PipelineJob created. Resource name: projects/308578548194/locations/europe-west1/pipelineJobs/hello-world-pipeline-20221112191733\n",
      "To use this PipelineJob in another session:\n",
      "pipeline_job = aiplatform.PipelineJob.get('projects/308578548194/locations/europe-west1/pipelineJobs/hello-world-pipeline-20221112191733')\n",
      "View Pipeline Job:\n",
      "https://console.cloud.google.com/vertex-ai/locations/europe-west1/pipelines/runs/hello-world-pipeline-20221112191733?project=308578548194\n",
      "PipelineJob run completed. Resource name: projects/308578548194/locations/europe-west1/pipelineJobs/hello-world-pipeline-20221112191733\n",
      "CPU times: user 49.8 ms, sys: 8.4 ms, total: 58.2 ms\n",
      "Wall time: 5.59 s\n"
     ]
    }
   ],
   "source": [
    "%%time\n",
    "job.run(service_account=SERVICE_ACCOUNT)"
   ]
  },
  {
   "cell_type": "markdown",
   "id": "caf4151e-a93e-45d0-ade6-4656046c4808",
   "metadata": {},
   "source": [
    "# Delete the pipeline job"
   ]
  },
  {
   "cell_type": "code",
   "execution_count": 17,
   "id": "bddfbef3-a4e7-4103-9cff-091177e080ba",
   "metadata": {},
   "outputs": [
    {
     "name": "stdout",
     "output_type": "stream",
     "text": [
      "Deleting PipelineJob : projects/308578548194/locations/europe-west1/pipelineJobs/hello-world-pipeline-20221112191702\n",
      "Delete PipelineJob  backing LRO: projects/308578548194/locations/europe-west1/operations/6287342838669639680\n",
      "PipelineJob deleted. . Resource name: projects/308578548194/locations/europe-west1/pipelineJobs/hello-world-pipeline-20221112191702\n"
     ]
    }
   ],
   "source": [
    "job.delete()"
   ]
  },
  {
   "cell_type": "markdown",
   "id": "1c9e629d-c057-4ca1-8d55-c4722f5cb671",
   "metadata": {},
   "source": [
    "# 🧹 Clean up"
   ]
  },
  {
   "cell_type": "code",
   "execution_count": 21,
   "id": "ec0e4682-0f12-4615-98fe-84d16825cd41",
   "metadata": {},
   "outputs": [
    {
     "name": "stdout",
     "output_type": "stream",
     "text": [
      "Removing gs://my-simple-pipeline/pipeline_root/#1668276958482306...\n",
      "Removing gs://my-simple-pipeline/pipeline_root/simple/#1668276958604632...      \n",
      "Removing gs://my-simple-pipeline/pipeline_root/simple/308578548194/#1668276958719416...\n",
      "Removing gs://my-simple-pipeline/pipeline_root/simple/308578548194/hello-world-pipeline-20221112180440/#1668276958833891...\n",
      "/ [4 objects]                                                                   \n",
      "==> NOTE: You are performing a sequence of gsutil operations that may\n",
      "run significantly faster if you instead use gsutil -m rm ... Please\n",
      "see the -m section under \"gsutil help options\" for further information\n",
      "about when gsutil -m can be advantageous.\n",
      "\n",
      "Removing gs://my-simple-pipeline/pipeline_root/simple/308578548194/hello-world-pipeline-20221112180440/consumer_7519496250685652992/#1668277051676999...\n",
      "Removing gs://my-simple-pipeline/pipeline_root/simple/308578548194/hello-world-pipeline-20221112180440/consumer_7519496250685652992/executor_output.json#1668277051964178...\n",
      "Removing gs://my-simple-pipeline/pipeline_root/simple/308578548194/hello-world-pipeline-20221112180440/hello-world_-1703875786169122816/#1668276958948824...\n",
      "Removing gs://my-simple-pipeline/pipeline_root/simple/308578548194/hello-world-pipeline-20221112180440/hello-world_-1703875786169122816/executor_output.json#1668276959274352...\n",
      "Removing gs://my-simple-pipeline/pipeline_root/simple/308578548194/hello-world-pipeline-20221112180440/two-outputs_1754888727651418112/#1668276962423868...\n",
      "Removing gs://my-simple-pipeline/pipeline_root/simple/308578548194/hello-world-pipeline-20221112180440/two-outputs_1754888727651418112/executor_output.json#1668276962693354...\n",
      "/ [10 objects]                                                                  \n",
      "Operation completed over 10 objects.                                             \n",
      "Removing gs://my-simple-pipeline/...\n"
     ]
    }
   ],
   "source": [
    "delete_pipeline = True\n",
    "delete_bucket = True\n",
    "\n",
    "try:\n",
    "    if delete_pipeline and \"DISPLAY_NAME\" in globals():\n",
    "        pipelines = aip.PipelineJob.list(\n",
    "            filter=f\"display_name={DISPLAY_NAME}\", order_by=\"create_time\"\n",
    "        )\n",
    "        pipeline = pipelines[0]\n",
    "        aip.PipelineJob.delete(pipeline.resource_name)\n",
    "        print(\"Deleted pipeline:\", pipeline)\n",
    "except Exception as e:\n",
    "    print(e)\n",
    "\n",
    "if delete_bucket or os.getenv(\"IS_TESTING\"):\n",
    "    ! gsutil rm -r $BUCKET_URI"
   ]
  },
  {
   "cell_type": "code",
   "execution_count": null,
   "id": "6c50d3f4-3e90-4141-8177-012024d7a467",
   "metadata": {},
   "outputs": [],
   "source": []
  }
 ],
 "metadata": {
  "environment": {
   "kernel": "python3",
   "name": "common-cpu.m100",
   "type": "gcloud",
   "uri": "gcr.io/deeplearning-platform-release/base-cpu:m100"
  },
  "kernelspec": {
   "display_name": "Python 3",
   "language": "python",
   "name": "python3"
  },
  "language_info": {
   "codemirror_mode": {
    "name": "ipython",
    "version": 3
   },
   "file_extension": ".py",
   "mimetype": "text/x-python",
   "name": "python",
   "nbconvert_exporter": "python",
   "pygments_lexer": "ipython3",
   "version": "3.7.12"
  }
 },
 "nbformat": 4,
 "nbformat_minor": 5
}
